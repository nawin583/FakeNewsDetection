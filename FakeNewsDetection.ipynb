{
  "cells": [
    {
      "cell_type": "markdown",
      "metadata": {
        "id": "UYKA_tY-sK_O"
      },
      "source": [
        "Mounting the Drive"
      ]
    },
    {
      "cell_type": "code",
      "execution_count": null,
      "metadata": {
        "colab": {
          "base_uri": "https://localhost:8080/"
        },
        "id": "5-h_xNlnNsYs",
        "outputId": "96acda2b-18d9-4bfc-e5e8-350b7d0177d9"
      },
      "outputs": [
        {
          "name": "stdout",
          "output_type": "stream",
          "text": [
            "Mounted at /content/drive/\n"
          ]
        }
      ],
      "source": [
        "\n",
        "from google.colab import drive\n",
        "\n",
        "drive.mount(\"/content/drive/\")"
      ]
    },
    {
      "cell_type": "code",
      "execution_count": null,
      "metadata": {
        "id": "cbul0umgOYn_"
      },
      "outputs": [],
      "source": [
        "import os\n",
        "os.chdir(\"/content/drive/MyDrive/data\")"
      ]
    },
    {
      "cell_type": "code",
      "execution_count": null,
      "metadata": {
        "colab": {
          "base_uri": "https://localhost:8080/"
        },
        "id": "QnMFMn6Fd13k",
        "outputId": "92aaf43a-6fc1-4a14-887c-51bdca2a0672"
      },
      "outputs": [
        {
          "name": "stdout",
          "output_type": "stream",
          "text": [
            "Drive already mounted at /content/drive; to attempt to forcibly remount, call drive.mount(\"/content/drive\", force_remount=True).\n"
          ]
        }
      ],
      "source": [
        "from google.colab import drive\n",
        "drive.mount('/content/drive')"
      ]
    },
    {
      "cell_type": "code",
      "execution_count": null,
      "metadata": {
        "colab": {
          "base_uri": "https://localhost:8080/"
        },
        "id": "Pp6O0kFDPFnZ",
        "outputId": "d66c3810-7ea2-40c7-93d0-deb22998a404"
      },
      "outputs": [
        {
          "name": "stdout",
          "output_type": "stream",
          "text": [
            "Requirement already satisfied: nltk in /usr/local/lib/python3.10/dist-packages (3.8.1)\n",
            "Requirement already satisfied: click in /usr/local/lib/python3.10/dist-packages (from nltk) (8.1.7)\n",
            "Requirement already satisfied: joblib in /usr/local/lib/python3.10/dist-packages (from nltk) (1.3.2)\n",
            "Requirement already satisfied: regex>=2021.8.3 in /usr/local/lib/python3.10/dist-packages (from nltk) (2023.6.3)\n",
            "Requirement already satisfied: tqdm in /usr/local/lib/python3.10/dist-packages (from nltk) (4.66.1)\n"
          ]
        }
      ],
      "source": [
        "! pip install nltk"
      ]
    },
    {
      "cell_type": "markdown",
      "metadata": {
        "id": "OIOU5inQkeBk"
      },
      "source": [
        "The Natural Language Toolkit (NLTK) is a powerful Python library widely used for working with human language data. It provides easy-to-use interfaces to over 50 corpora and lexical resources such as WordNet, along with a suite of text processing libraries for classification, tokenization, stemming, tagging, parsing, and semantic reasoning."
      ]
    },
    {
      "cell_type": "code",
      "execution_count": null,
      "metadata": {
        "colab": {
          "background_save": true,
          "base_uri": "https://localhost:8080/"
        },
        "id": "06UZFsamPv8g",
        "outputId": "85946239-446b-4367-c5c1-38acd116ad92"
      },
      "outputs": [
        {
          "name": "stderr",
          "output_type": "stream",
          "text": [
            "[nltk_data] Downloading collection 'all'\n",
            "[nltk_data]    | \n",
            "[nltk_data]    | Downloading package abc to /root/nltk_data...\n",
            "[nltk_data]    |   Unzipping corpora/abc.zip.\n",
            "[nltk_data]    | Downloading package alpino to /root/nltk_data...\n",
            "[nltk_data]    |   Unzipping corpora/alpino.zip.\n",
            "[nltk_data]    | Downloading package averaged_perceptron_tagger to\n",
            "[nltk_data]    |     /root/nltk_data...\n",
            "[nltk_data]    |   Unzipping taggers/averaged_perceptron_tagger.zip.\n",
            "[nltk_data]    | Downloading package averaged_perceptron_tagger_ru to\n",
            "[nltk_data]    |     /root/nltk_data...\n",
            "[nltk_data]    |   Unzipping\n",
            "[nltk_data]    |       taggers/averaged_perceptron_tagger_ru.zip.\n",
            "[nltk_data]    | Downloading package basque_grammars to\n",
            "[nltk_data]    |     /root/nltk_data...\n",
            "[nltk_data]    |   Unzipping grammars/basque_grammars.zip.\n",
            "[nltk_data]    | Downloading package bcp47 to /root/nltk_data...\n",
            "[nltk_data]    | Downloading package biocreative_ppi to\n",
            "[nltk_data]    |     /root/nltk_data...\n",
            "[nltk_data]    |   Unzipping corpora/biocreative_ppi.zip.\n",
            "[nltk_data]    | Downloading package bllip_wsj_no_aux to\n",
            "[nltk_data]    |     /root/nltk_data...\n",
            "[nltk_data]    |   Unzipping models/bllip_wsj_no_aux.zip.\n",
            "[nltk_data]    | Downloading package book_grammars to\n",
            "[nltk_data]    |     /root/nltk_data...\n",
            "[nltk_data]    |   Unzipping grammars/book_grammars.zip.\n",
            "[nltk_data]    | Downloading package brown to /root/nltk_data...\n",
            "[nltk_data]    |   Unzipping corpora/brown.zip.\n",
            "[nltk_data]    | Downloading package brown_tei to /root/nltk_data...\n",
            "[nltk_data]    |   Unzipping corpora/brown_tei.zip.\n",
            "[nltk_data]    | Downloading package cess_cat to /root/nltk_data...\n",
            "[nltk_data]    |   Unzipping corpora/cess_cat.zip.\n",
            "[nltk_data]    | Downloading package cess_esp to /root/nltk_data...\n",
            "[nltk_data]    |   Unzipping corpora/cess_esp.zip.\n",
            "[nltk_data]    | Downloading package chat80 to /root/nltk_data...\n",
            "[nltk_data]    |   Unzipping corpora/chat80.zip.\n",
            "[nltk_data]    | Downloading package city_database to\n",
            "[nltk_data]    |     /root/nltk_data...\n",
            "[nltk_data]    |   Unzipping corpora/city_database.zip.\n",
            "[nltk_data]    | Downloading package cmudict to /root/nltk_data...\n",
            "[nltk_data]    |   Unzipping corpora/cmudict.zip.\n",
            "[nltk_data]    | Downloading package comparative_sentences to\n",
            "[nltk_data]    |     /root/nltk_data...\n",
            "[nltk_data]    |   Unzipping corpora/comparative_sentences.zip.\n",
            "[nltk_data]    | Downloading package comtrans to /root/nltk_data...\n",
            "[nltk_data]    | Downloading package conll2000 to /root/nltk_data...\n",
            "[nltk_data]    |   Unzipping corpora/conll2000.zip.\n",
            "[nltk_data]    | Downloading package conll2002 to /root/nltk_data...\n",
            "[nltk_data]    |   Unzipping corpora/conll2002.zip.\n",
            "[nltk_data]    | Downloading package conll2007 to /root/nltk_data...\n",
            "[nltk_data]    | Downloading package crubadan to /root/nltk_data...\n",
            "[nltk_data]    |   Unzipping corpora/crubadan.zip.\n",
            "[nltk_data]    | Downloading package dependency_treebank to\n",
            "[nltk_data]    |     /root/nltk_data...\n",
            "[nltk_data]    |   Unzipping corpora/dependency_treebank.zip.\n",
            "[nltk_data]    | Downloading package dolch to /root/nltk_data...\n",
            "[nltk_data]    |   Unzipping corpora/dolch.zip.\n",
            "[nltk_data]    | Downloading package europarl_raw to\n",
            "[nltk_data]    |     /root/nltk_data...\n",
            "[nltk_data]    |   Unzipping corpora/europarl_raw.zip.\n",
            "[nltk_data]    | Downloading package extended_omw to\n",
            "[nltk_data]    |     /root/nltk_data...\n",
            "[nltk_data]    | Downloading package floresta to /root/nltk_data...\n",
            "[nltk_data]    |   Unzipping corpora/floresta.zip.\n",
            "[nltk_data]    | Downloading package framenet_v15 to\n",
            "[nltk_data]    |     /root/nltk_data...\n",
            "[nltk_data]    |   Unzipping corpora/framenet_v15.zip.\n",
            "[nltk_data]    | Downloading package framenet_v17 to\n",
            "[nltk_data]    |     /root/nltk_data...\n",
            "[nltk_data]    |   Unzipping corpora/framenet_v17.zip.\n",
            "[nltk_data]    | Downloading package gazetteers to /root/nltk_data...\n",
            "[nltk_data]    |   Unzipping corpora/gazetteers.zip.\n",
            "[nltk_data]    | Downloading package genesis to /root/nltk_data...\n",
            "[nltk_data]    |   Unzipping corpora/genesis.zip.\n",
            "[nltk_data]    | Downloading package gutenberg to /root/nltk_data...\n",
            "[nltk_data]    |   Unzipping corpora/gutenberg.zip.\n",
            "[nltk_data]    | Downloading package ieer to /root/nltk_data...\n",
            "[nltk_data]    |   Unzipping corpora/ieer.zip.\n",
            "[nltk_data]    | Downloading package inaugural to /root/nltk_data...\n",
            "[nltk_data]    |   Unzipping corpora/inaugural.zip.\n",
            "[nltk_data]    | Downloading package indian to /root/nltk_data...\n",
            "[nltk_data]    |   Unzipping corpora/indian.zip.\n",
            "[nltk_data]    | Downloading package jeita to /root/nltk_data...\n",
            "[nltk_data]    | Downloading package kimmo to /root/nltk_data...\n",
            "[nltk_data]    |   Unzipping corpora/kimmo.zip.\n",
            "[nltk_data]    | Downloading package knbc to /root/nltk_data...\n",
            "[nltk_data]    | Downloading package large_grammars to\n",
            "[nltk_data]    |     /root/nltk_data...\n",
            "[nltk_data]    |   Unzipping grammars/large_grammars.zip.\n",
            "[nltk_data]    | Downloading package lin_thesaurus to\n",
            "[nltk_data]    |     /root/nltk_data...\n",
            "[nltk_data]    |   Unzipping corpora/lin_thesaurus.zip.\n",
            "[nltk_data]    | Downloading package mac_morpho to /root/nltk_data...\n",
            "[nltk_data]    |   Unzipping corpora/mac_morpho.zip.\n",
            "[nltk_data]    | Downloading package machado to /root/nltk_data...\n",
            "[nltk_data]    | Downloading package masc_tagged to /root/nltk_data...\n",
            "[nltk_data]    | Downloading package maxent_ne_chunker to\n",
            "[nltk_data]    |     /root/nltk_data...\n",
            "[nltk_data]    |   Unzipping chunkers/maxent_ne_chunker.zip.\n",
            "[nltk_data]    | Downloading package maxent_treebank_pos_tagger to\n",
            "[nltk_data]    |     /root/nltk_data...\n",
            "[nltk_data]    |   Unzipping taggers/maxent_treebank_pos_tagger.zip.\n",
            "[nltk_data]    | Downloading package moses_sample to\n",
            "[nltk_data]    |     /root/nltk_data...\n",
            "[nltk_data]    |   Unzipping models/moses_sample.zip.\n",
            "[nltk_data]    | Downloading package movie_reviews to\n",
            "[nltk_data]    |     /root/nltk_data...\n",
            "[nltk_data]    |   Unzipping corpora/movie_reviews.zip.\n",
            "[nltk_data]    | Downloading package mte_teip5 to /root/nltk_data...\n",
            "[nltk_data]    |   Unzipping corpora/mte_teip5.zip.\n",
            "[nltk_data]    | Downloading package mwa_ppdb to /root/nltk_data...\n",
            "[nltk_data]    |   Unzipping misc/mwa_ppdb.zip.\n",
            "[nltk_data]    | Downloading package names to /root/nltk_data...\n",
            "[nltk_data]    |   Unzipping corpora/names.zip.\n",
            "[nltk_data]    | Downloading package nombank.1.0 to /root/nltk_data...\n",
            "[nltk_data]    | Downloading package nonbreaking_prefixes to\n",
            "[nltk_data]    |     /root/nltk_data...\n",
            "[nltk_data]    |   Unzipping corpora/nonbreaking_prefixes.zip.\n",
            "[nltk_data]    | Downloading package nps_chat to /root/nltk_data...\n",
            "[nltk_data]    |   Unzipping corpora/nps_chat.zip.\n",
            "[nltk_data]    | Downloading package omw to /root/nltk_data...\n",
            "[nltk_data]    | Downloading package omw-1.4 to /root/nltk_data...\n",
            "[nltk_data]    | Downloading package opinion_lexicon to\n",
            "[nltk_data]    |     /root/nltk_data...\n",
            "[nltk_data]    |   Unzipping corpora/opinion_lexicon.zip.\n",
            "[nltk_data]    | Downloading package panlex_swadesh to\n",
            "[nltk_data]    |     /root/nltk_data...\n",
            "[nltk_data]    | Downloading package paradigms to /root/nltk_data...\n",
            "[nltk_data]    |   Unzipping corpora/paradigms.zip.\n",
            "[nltk_data]    | Downloading package pe08 to /root/nltk_data...\n",
            "[nltk_data]    |   Unzipping corpora/pe08.zip.\n",
            "[nltk_data]    | Downloading package perluniprops to\n",
            "[nltk_data]    |     /root/nltk_data...\n",
            "[nltk_data]    |   Unzipping misc/perluniprops.zip.\n",
            "[nltk_data]    | Downloading package pil to /root/nltk_data...\n",
            "[nltk_data]    |   Unzipping corpora/pil.zip.\n",
            "[nltk_data]    | Downloading package pl196x to /root/nltk_data...\n",
            "[nltk_data]    |   Unzipping corpora/pl196x.zip.\n",
            "[nltk_data]    | Downloading package porter_test to /root/nltk_data...\n",
            "[nltk_data]    |   Unzipping stemmers/porter_test.zip.\n",
            "[nltk_data]    | Downloading package ppattach to /root/nltk_data...\n",
            "[nltk_data]    |   Unzipping corpora/ppattach.zip.\n",
            "[nltk_data]    | Downloading package problem_reports to\n",
            "[nltk_data]    |     /root/nltk_data...\n",
            "[nltk_data]    |   Unzipping corpora/problem_reports.zip.\n",
            "[nltk_data]    | Downloading package product_reviews_1 to\n",
            "[nltk_data]    |     /root/nltk_data...\n",
            "[nltk_data]    |   Unzipping corpora/product_reviews_1.zip.\n",
            "[nltk_data]    | Downloading package product_reviews_2 to\n",
            "[nltk_data]    |     /root/nltk_data...\n",
            "[nltk_data]    |   Unzipping corpora/product_reviews_2.zip.\n",
            "[nltk_data]    | Downloading package propbank to /root/nltk_data...\n",
            "[nltk_data]    | Downloading package pros_cons to /root/nltk_data...\n",
            "[nltk_data]    |   Unzipping corpora/pros_cons.zip.\n",
            "[nltk_data]    | Downloading package ptb to /root/nltk_data...\n",
            "[nltk_data]    |   Unzipping corpora/ptb.zip.\n",
            "[nltk_data]    | Downloading package punkt to /root/nltk_data...\n",
            "[nltk_data]    |   Unzipping tokenizers/punkt.zip.\n",
            "[nltk_data]    | Downloading package qc to /root/nltk_data...\n",
            "[nltk_data]    |   Unzipping corpora/qc.zip.\n",
            "[nltk_data]    | Downloading package reuters to /root/nltk_data...\n",
            "[nltk_data]    | Downloading package rslp to /root/nltk_data...\n",
            "[nltk_data]    |   Unzipping stemmers/rslp.zip.\n",
            "[nltk_data]    | Downloading package rte to /root/nltk_data...\n",
            "[nltk_data]    |   Unzipping corpora/rte.zip.\n",
            "[nltk_data]    | Downloading package sample_grammars to\n",
            "[nltk_data]    |     /root/nltk_data...\n",
            "[nltk_data]    |   Unzipping grammars/sample_grammars.zip.\n",
            "[nltk_data]    | Downloading package semcor to /root/nltk_data...\n",
            "[nltk_data]    | Downloading package senseval to /root/nltk_data...\n",
            "[nltk_data]    |   Unzipping corpora/senseval.zip.\n",
            "[nltk_data]    | Downloading package sentence_polarity to\n",
            "[nltk_data]    |     /root/nltk_data...\n",
            "[nltk_data]    |   Unzipping corpora/sentence_polarity.zip.\n",
            "[nltk_data]    | Downloading package sentiwordnet to\n",
            "[nltk_data]    |     /root/nltk_data...\n",
            "[nltk_data]    |   Unzipping corpora/sentiwordnet.zip.\n",
            "[nltk_data]    | Downloading package shakespeare to /root/nltk_data...\n",
            "[nltk_data]    |   Unzipping corpora/shakespeare.zip.\n",
            "[nltk_data]    | Downloading package sinica_treebank to\n",
            "[nltk_data]    |     /root/nltk_data...\n",
            "[nltk_data]    |   Unzipping corpora/sinica_treebank.zip.\n",
            "[nltk_data]    | Downloading package smultron to /root/nltk_data...\n",
            "[nltk_data]    |   Unzipping corpora/smultron.zip.\n",
            "[nltk_data]    | Downloading package snowball_data to\n",
            "[nltk_data]    |     /root/nltk_data...\n",
            "[nltk_data]    | Downloading package spanish_grammars to\n",
            "[nltk_data]    |     /root/nltk_data...\n",
            "[nltk_data]    |   Unzipping grammars/spanish_grammars.zip.\n",
            "[nltk_data]    | Downloading package state_union to /root/nltk_data...\n",
            "[nltk_data]    |   Unzipping corpora/state_union.zip.\n",
            "[nltk_data]    | Downloading package stopwords to /root/nltk_data...\n",
            "[nltk_data]    |   Unzipping corpora/stopwords.zip.\n",
            "[nltk_data]    | Downloading package subjectivity to\n",
            "[nltk_data]    |     /root/nltk_data...\n",
            "[nltk_data]    |   Unzipping corpora/subjectivity.zip.\n",
            "[nltk_data]    | Downloading package swadesh to /root/nltk_data...\n",
            "[nltk_data]    |   Unzipping corpora/swadesh.zip.\n",
            "[nltk_data]    | Downloading package switchboard to /root/nltk_data...\n",
            "[nltk_data]    |   Unzipping corpora/switchboard.zip.\n",
            "[nltk_data]    | Downloading package tagsets to /root/nltk_data...\n",
            "[nltk_data]    |   Unzipping help/tagsets.zip.\n",
            "[nltk_data]    | Downloading package timit to /root/nltk_data...\n",
            "[nltk_data]    |   Unzipping corpora/timit.zip.\n",
            "[nltk_data]    | Downloading package toolbox to /root/nltk_data...\n",
            "[nltk_data]    |   Unzipping corpora/toolbox.zip.\n",
            "[nltk_data]    | Downloading package treebank to /root/nltk_data...\n",
            "[nltk_data]    |   Unzipping corpora/treebank.zip.\n",
            "[nltk_data]    | Downloading package twitter_samples to\n",
            "[nltk_data]    |     /root/nltk_data...\n",
            "[nltk_data]    |   Unzipping corpora/twitter_samples.zip.\n",
            "[nltk_data]    | Downloading package udhr to /root/nltk_data...\n",
            "[nltk_data]    |   Unzipping corpora/udhr.zip.\n",
            "[nltk_data]    | Downloading package udhr2 to /root/nltk_data...\n",
            "[nltk_data]    |   Unzipping corpora/udhr2.zip.\n",
            "[nltk_data]    | Downloading package unicode_samples to\n",
            "[nltk_data]    |     /root/nltk_data...\n",
            "[nltk_data]    |   Unzipping corpora/unicode_samples.zip.\n",
            "[nltk_data]    | Downloading package universal_tagset to\n",
            "[nltk_data]    |     /root/nltk_data...\n",
            "[nltk_data]    |   Unzipping taggers/universal_tagset.zip.\n",
            "[nltk_data]    | Downloading package universal_treebanks_v20 to\n",
            "[nltk_data]    |     /root/nltk_data...\n",
            "[nltk_data]    | Downloading package vader_lexicon to\n",
            "[nltk_data]    |     /root/nltk_data...\n",
            "[nltk_data]    | Downloading package verbnet to /root/nltk_data...\n",
            "[nltk_data]    |   Unzipping corpora/verbnet.zip.\n",
            "[nltk_data]    | Downloading package verbnet3 to /root/nltk_data...\n",
            "[nltk_data]    |   Unzipping corpora/verbnet3.zip.\n",
            "[nltk_data]    | Downloading package webtext to /root/nltk_data...\n",
            "[nltk_data]    |   Unzipping corpora/webtext.zip.\n",
            "[nltk_data]    | Downloading package wmt15_eval to /root/nltk_data...\n",
            "[nltk_data]    |   Unzipping models/wmt15_eval.zip.\n",
            "[nltk_data]    | Downloading package word2vec_sample to\n",
            "[nltk_data]    |     /root/nltk_data...\n",
            "[nltk_data]    |   Unzipping models/word2vec_sample.zip.\n",
            "[nltk_data]    | Downloading package wordnet to /root/nltk_data...\n",
            "[nltk_data]    | Downloading package wordnet2021 to /root/nltk_data...\n",
            "[nltk_data]    | Downloading package wordnet2022 to /root/nltk_data...\n",
            "[nltk_data]    |   Unzipping corpora/wordnet2022.zip.\n",
            "[nltk_data]    | Downloading package wordnet31 to /root/nltk_data...\n",
            "[nltk_data]    | Downloading package wordnet_ic to /root/nltk_data...\n",
            "[nltk_data]    |   Unzipping corpora/wordnet_ic.zip.\n",
            "[nltk_data]    | Downloading package words to /root/nltk_data...\n",
            "[nltk_data]    |   Unzipping corpora/words.zip.\n",
            "[nltk_data]    | Downloading package ycoe to /root/nltk_data...\n",
            "[nltk_data]    |   Unzipping corpora/ycoe.zip.\n",
            "[nltk_data]    | \n",
            "[nltk_data]  Done downloading collection all\n"
          ]
        },
        {
          "data": {
            "text/plain": [
              "True"
            ]
          },
          "execution_count": 5,
          "metadata": {},
          "output_type": "execute_result"
        }
      ],
      "source": [
        "import nltk\n",
        "nltk.download('all')"
      ]
    },
    {
      "cell_type": "markdown",
      "metadata": {
        "id": "zfhT8Ai3lDTm"
      },
      "source": [
        "# Loading of Data"
      ]
    },
    {
      "cell_type": "code",
      "execution_count": null,
      "metadata": {
        "colab": {
          "background_save": true
        },
        "id": "x_sM6JkCQUx9"
      },
      "outputs": [],
      "source": [
        "import pandas as pd\n",
        "fake = pd.read_csv(\"/content/drive/MyDrive/data/Fake.csv/Fake.csv\")\n",
        "true = pd.read_csv(\"/content/drive/MyDrive/data/True.csv/True.csv\")"
      ]
    },
    {
      "cell_type": "markdown",
      "metadata": {
        "id": "NzxaXGc5ludw"
      },
      "source": [
        "Count null values in each fake news column"
      ]
    },
    {
      "cell_type": "code",
      "execution_count": null,
      "metadata": {
        "colab": {
          "background_save": true
        },
        "id": "O-IgoMFnQsd-",
        "outputId": "e2bba102-d568-43d7-8912-4ad86d518f85"
      },
      "outputs": [
        {
          "data": {
            "text/plain": [
              "title      0\n",
              "text       0\n",
              "subject    0\n",
              "date       0\n",
              "dtype: int64"
            ]
          },
          "execution_count": 7,
          "metadata": {},
          "output_type": "execute_result"
        }
      ],
      "source": [
        "fake.isnull().sum()"
      ]
    },
    {
      "cell_type": "markdown",
      "metadata": {
        "id": "fTHJLJ_ll35n"
      },
      "source": [
        "Count null valus in each true news column"
      ]
    },
    {
      "cell_type": "code",
      "execution_count": null,
      "metadata": {
        "colab": {
          "background_save": true
        },
        "id": "H6FbQmkiQujB",
        "outputId": "b5d08f14-c99c-4e29-884e-9678a4cac3aa"
      },
      "outputs": [
        {
          "data": {
            "text/plain": [
              "title      0\n",
              "text       0\n",
              "subject    0\n",
              "date       0\n",
              "dtype: int64"
            ]
          },
          "execution_count": 8,
          "metadata": {},
          "output_type": "execute_result"
        }
      ],
      "source": [
        "true.isnull().sum()"
      ]
    },
    {
      "cell_type": "code",
      "execution_count": null,
      "metadata": {
        "colab": {
          "background_save": true
        },
        "id": "6xISyM81pFK3",
        "outputId": "793058b1-7a2e-4adc-e7a3-f21bb9597a95"
      },
      "outputs": [
        {
          "name": "stdout",
          "output_type": "stream",
          "text": [
            "<class 'pandas.core.frame.DataFrame'>\n",
            "RangeIndex: 23481 entries, 0 to 23480\n",
            "Data columns (total 4 columns):\n",
            " #   Column   Non-Null Count  Dtype \n",
            "---  ------   --------------  ----- \n",
            " 0   title    23481 non-null  object\n",
            " 1   text     23481 non-null  object\n",
            " 2   subject  23481 non-null  object\n",
            " 3   date     23481 non-null  object\n",
            "dtypes: object(4)\n",
            "memory usage: 733.9+ KB\n"
          ]
        }
      ],
      "source": [
        "fake.info()"
      ]
    },
    {
      "cell_type": "markdown",
      "metadata": {
        "id": "ZgfgUxQQmBAd"
      },
      "source": [
        "Counting  subject of each news."
      ]
    },
    {
      "cell_type": "code",
      "execution_count": null,
      "metadata": {
        "colab": {
          "background_save": true
        },
        "id": "hz5hm8gdRNxT",
        "outputId": "22edbd00-4e6b-4bb0-f311-c026c1cf709b"
      },
      "outputs": [
        {
          "data": {
            "text/plain": [
              "News               9050\n",
              "politics           6841\n",
              "left-news          4459\n",
              "Government News    1570\n",
              "US_News             783\n",
              "Middle-east         778\n",
              "Name: subject, dtype: int64"
            ]
          },
          "execution_count": 10,
          "metadata": {},
          "output_type": "execute_result"
        }
      ],
      "source": [
        "fake.subject.value_counts()"
      ]
    },
    {
      "cell_type": "markdown",
      "metadata": {
        "id": "-xIxGj8emWO9"
      },
      "source": [
        "Give description  of true news"
      ]
    },
    {
      "cell_type": "code",
      "execution_count": null,
      "metadata": {
        "colab": {
          "base_uri": "https://localhost:8080/"
        },
        "id": "JFoG1hIAqMav",
        "outputId": "6cf3e3cd-ea4a-47eb-aab3-cf450e94df0c"
      },
      "outputs": [
        {
          "name": "stdout",
          "output_type": "stream",
          "text": [
            "<class 'pandas.core.frame.DataFrame'>\n",
            "RangeIndex: 21417 entries, 0 to 21416\n",
            "Data columns (total 4 columns):\n",
            " #   Column   Non-Null Count  Dtype \n",
            "---  ------   --------------  ----- \n",
            " 0   title    21417 non-null  object\n",
            " 1   text     21417 non-null  object\n",
            " 2   subject  21417 non-null  object\n",
            " 3   date     21417 non-null  object\n",
            "dtypes: object(4)\n",
            "memory usage: 669.4+ KB\n"
          ]
        }
      ],
      "source": [
        "true.info();"
      ]
    },
    {
      "cell_type": "markdown",
      "metadata": {
        "id": "NshPe5ocmhPS"
      },
      "source": [
        "Counting subject of each news."
      ]
    },
    {
      "cell_type": "code",
      "execution_count": null,
      "metadata": {
        "colab": {
          "base_uri": "https://localhost:8080/"
        },
        "id": "mTMvE9N4RyZy",
        "outputId": "840934a2-9e63-45e0-a99e-cdc8b4bed8fd"
      },
      "outputs": [
        {
          "data": {
            "text/plain": [
              "politicsNews    11272\n",
              "worldnews       10145\n",
              "Name: subject, dtype: int64"
            ]
          },
          "execution_count": 45,
          "metadata": {},
          "output_type": "execute_result"
        }
      ],
      "source": [
        "true.subject.value_counts()"
      ]
    },
    {
      "cell_type": "markdown",
      "metadata": {
        "id": "67gbRErbmmzo"
      },
      "source": [
        "Creating  a new column Target.And for fake we are assigning it value to 0.And for true we are assigning it to 1."
      ]
    },
    {
      "cell_type": "code",
      "execution_count": null,
      "metadata": {
        "id": "ANMtzx4VR8Oq"
      },
      "outputs": [],
      "source": [
        "fake['target'] = 0\n",
        "true['target'] = 1"
      ]
    },
    {
      "cell_type": "markdown",
      "metadata": {
        "id": "iKcD5iZbmyn3"
      },
      "source": [
        "Merging of True and fake news into one data"
      ]
    },
    {
      "cell_type": "code",
      "execution_count": null,
      "metadata": {
        "id": "E8EjEgjGSNIv"
      },
      "outputs": [],
      "source": [
        "data = pd.concat([true, fake])"
      ]
    },
    {
      "cell_type": "markdown",
      "metadata": {
        "id": "VtVENX73m6Dy"
      },
      "source": [
        "Splitting data into words"
      ]
    },
    {
      "cell_type": "code",
      "execution_count": null,
      "metadata": {
        "id": "Tp7L2wIB7XsN"
      },
      "outputs": [],
      "source": [
        "test_data = data.copy()\n",
        "test_data.text = data.text.apply(lambda s:s.split(\" \"))"
      ]
    },
    {
      "cell_type": "markdown",
      "metadata": {
        "id": "eRuV_UcYnBuX"
      },
      "source": [
        "Count number of  words in each data"
      ]
    },
    {
      "cell_type": "code",
      "execution_count": null,
      "metadata": {
        "id": "dE8aV6BD7XvZ"
      },
      "outputs": [],
      "source": [
        "test_data[\"length\"] = data.text.apply(lambda s: len(s.split()))"
      ]
    },
    {
      "cell_type": "code",
      "execution_count": null,
      "metadata": {
        "id": "hze5XkcR7XyK"
      },
      "outputs": [],
      "source": [
        "test_data[\"length\"].mean(), test_data.length.max()\n",
        "test_data.reset_index(drop=True, inplace=True)"
      ]
    },
    {
      "cell_type": "markdown",
      "metadata": {
        "id": "eBdTB5EmnSqp"
      },
      "source": [
        "Plot length vs density"
      ]
    },
    {
      "cell_type": "code",
      "execution_count": null,
      "metadata": {
        "colab": {
          "base_uri": "https://localhost:8080/",
          "height": 506
        },
        "id": "4pxd_EMx7X00",
        "outputId": "e0c41511-412f-4b26-e0fc-a283b64200df"
      },
      "outputs": [
        {
          "data": {
            "image/png": "[encoded data removed]",
            "text/plain": [
              "<Figure size 500x500 with 1 Axes>"
            ]
          },
          "metadata": {},
          "output_type": "display_data"
        }
      ],
      "source": [
        "import seaborn as sns\n",
        "sns.displot(test_data, x=\"length\", kind=\"kde\");"
      ]
    },
    {
      "cell_type": "markdown",
      "metadata": {
        "id": "g38Vzc35nXsN"
      },
      "source": [
        "Median of length of words in each tuple"
      ]
    },
    {
      "cell_type": "code",
      "execution_count": null,
      "metadata": {
        "colab": {
          "base_uri": "https://localhost:8080/"
        },
        "id": "_oiuUG9m7X3M",
        "outputId": "8d54144f-1c27-4248-fee9-e86f8af4c64f"
      },
      "outputs": [
        {
          "data": {
            "text/plain": [
              "362.0"
            ]
          },
          "execution_count": 20,
          "metadata": {},
          "output_type": "execute_result"
        }
      ],
      "source": [
        "test_data.length.median()\n"
      ]
    },
    {
      "cell_type": "code",
      "execution_count": null,
      "metadata": {
        "colab": {
          "base_uri": "https://localhost:8080/",
          "height": 423
        },
        "id": "1H51S1HK7X6c",
        "outputId": "6660145a-026f-48d4-f8f0-1b938eb7a6e5"
      },
      "outputs": [
        {
          "data": {
            "text/html": [
              "\n",
              "  <div id=\"df-7f61d392-240e-4648-bc3c-70c307da66f8\" class=\"colab-df-container\">\n",
              "    <div>\n",
              "<style scoped>\n",
              "    .dataframe tbody tr th:only-of-type {\n",
              "        vertical-align: middle;\n",
              "    }\n",
              "\n",
              "    .dataframe tbody tr th {\n",
              "        vertical-align: top;\n",
              "    }\n",
              "\n",
              "    .dataframe thead th {\n",
              "        text-align: right;\n",
              "    }\n",
              "</style>\n",
              "<table border=\"1\" class=\"dataframe\">\n",
              "  <thead>\n",
              "    <tr style=\"text-align: right;\">\n",
              "      <th></th>\n",
              "      <th>title</th>\n",
              "      <th>text</th>\n",
              "      <th>subject</th>\n",
              "      <th>date</th>\n",
              "      <th>target</th>\n",
              "      <th>length</th>\n",
              "    </tr>\n",
              "  </thead>\n",
              "  <tbody>\n",
              "    <tr>\n",
              "      <th>0</th>\n",
              "      <td>As U.S. budget fight looms, Republicans flip t...</td>\n",
              "      <td>[WASHINGTON, (Reuters), -, The, head, of, a, c...</td>\n",
              "      <td>politicsNews</td>\n",
              "      <td>December 31, 2017</td>\n",
              "      <td>1</td>\n",
              "      <td>749</td>\n",
              "    </tr>\n",
              "    <tr>\n",
              "      <th>1</th>\n",
              "      <td>U.S. military to accept transgender recruits o...</td>\n",
              "      <td>[WASHINGTON, (Reuters), -, Transgender, people...</td>\n",
              "      <td>politicsNews</td>\n",
              "      <td>December 29, 2017</td>\n",
              "      <td>1</td>\n",
              "      <td>624</td>\n",
              "    </tr>\n",
              "    <tr>\n",
              "      <th>2</th>\n",
              "      <td>Senior U.S. Republican senator: 'Let Mr. Muell...</td>\n",
              "      <td>[WASHINGTON, (Reuters), -, The, special, couns...</td>\n",
              "      <td>politicsNews</td>\n",
              "      <td>December 31, 2017</td>\n",
              "      <td>1</td>\n",
              "      <td>457</td>\n",
              "    </tr>\n",
              "    <tr>\n",
              "      <th>3</th>\n",
              "      <td>FBI Russia probe helped by Australian diplomat...</td>\n",
              "      <td>[WASHINGTON, (Reuters), -, Trump, campaign, ad...</td>\n",
              "      <td>politicsNews</td>\n",
              "      <td>December 30, 2017</td>\n",
              "      <td>1</td>\n",
              "      <td>376</td>\n",
              "    </tr>\n",
              "    <tr>\n",
              "      <th>4</th>\n",
              "      <td>Trump wants Postal Service to charge 'much mor...</td>\n",
              "      <td>[SEATTLE/WASHINGTON, (Reuters), -, President, ...</td>\n",
              "      <td>politicsNews</td>\n",
              "      <td>December 29, 2017</td>\n",
              "      <td>1</td>\n",
              "      <td>852</td>\n",
              "    </tr>\n",
              "    <tr>\n",
              "      <th>...</th>\n",
              "      <td>...</td>\n",
              "      <td>...</td>\n",
              "      <td>...</td>\n",
              "      <td>...</td>\n",
              "      <td>...</td>\n",
              "      <td>...</td>\n",
              "    </tr>\n",
              "    <tr>\n",
              "      <th>44893</th>\n",
              "      <td>McPain: John McCain Furious That Iran Treated ...</td>\n",
              "      <td>[21st, Century, Wire, says, As, 21WIRE, report...</td>\n",
              "      <td>Middle-east</td>\n",
              "      <td>January 16, 2016</td>\n",
              "      <td>0</td>\n",
              "      <td>522</td>\n",
              "    </tr>\n",
              "    <tr>\n",
              "      <th>44894</th>\n",
              "      <td>JUSTICE? Yahoo Settles E-mail Privacy Class-ac...</td>\n",
              "      <td>[21st, Century, Wire, says, It, s, a, familiar...</td>\n",
              "      <td>Middle-east</td>\n",
              "      <td>January 16, 2016</td>\n",
              "      <td>0</td>\n",
              "      <td>297</td>\n",
              "    </tr>\n",
              "    <tr>\n",
              "      <th>44895</th>\n",
              "      <td>Sunnistan: US and Allied ‘Safe Zone’ Plan to T...</td>\n",
              "      <td>[Patrick, Henningsen, , 21st, Century, WireRem...</td>\n",
              "      <td>Middle-east</td>\n",
              "      <td>January 15, 2016</td>\n",
              "      <td>0</td>\n",
              "      <td>4171</td>\n",
              "    </tr>\n",
              "    <tr>\n",
              "      <th>44896</th>\n",
              "      <td>How to Blow $700 Million: Al Jazeera America F...</td>\n",
              "      <td>[21st, Century, Wire, says, Al, Jazeera, Ameri...</td>\n",
              "      <td>Middle-east</td>\n",
              "      <td>January 14, 2016</td>\n",
              "      <td>0</td>\n",
              "      <td>456</td>\n",
              "    </tr>\n",
              "    <tr>\n",
              "      <th>44897</th>\n",
              "      <td>10 U.S. Navy Sailors Held by Iranian Military ...</td>\n",
              "      <td>[21st, Century, Wire, says, As, 21WIRE, predic...</td>\n",
              "      <td>Middle-east</td>\n",
              "      <td>January 12, 2016</td>\n",
              "      <td>0</td>\n",
              "      <td>874</td>\n",
              "    </tr>\n",
              "  </tbody>\n",
              "</table>\n",
              "<p>44898 rows × 6 columns</p>\n",
              "</div>\n",
              "    <div class=\"colab-df-buttons\">\n",
              "\n",
              "  <div class=\"colab-df-container\">\n",
              "    <button class=\"colab-df-convert\" onclick=\"convertToInteractive('df-7f61d392-240e-4648-bc3c-70c307da66f8')\"\n",
              "            title=\"Convert this dataframe to an interactive table.\"\n",
              "            style=\"display:none;\">\n",
              "\n",
              "  <svg xmlns=\"http://www.w3.org/2000/svg\" height=\"24px\" viewBox=\"0 -960 960 960\">\n",
              "    <path d=\"M120-120v-720h720v720H120Zm60-500h600v-160H180v160Zm220 220h160v-160H400v160Zm0 220h160v-160H400v160ZM180-400h160v-160H180v160Zm440 0h160v-160H620v160ZM180-180h160v-160H180v160Zm440 0h160v-160H620v160Z\"/>\n",
              "  </svg>\n",
              "    </button>\n",
              "\n",
              "  <style>\n",
              "    .colab-df-container {\n",
              "      display:flex;\n",
              "      gap: 12px;\n",
              "    }\n",
              "\n",
              "    .colab-df-convert {\n",
              "      background-color: #E8F0FE;\n",
              "      border: none;\n",
              "      border-radius: 50%;\n",
              "      cursor: pointer;\n",
              "      display: none;\n",
              "      fill: #1967D2;\n",
              "      height: 32px;\n",
              "      padding: 0 0 0 0;\n",
              "      width: 32px;\n",
              "    }\n",
              "\n",
              "    .colab-df-convert:hover {\n",
              "      background-color: #E2EBFA;\n",
              "      box-shadow: 0px 1px 2px rgba(60, 64, 67, 0.3), 0px 1px 3px 1px rgba(60, 64, 67, 0.15);\n",
              "      fill: #174EA6;\n",
              "    }\n",
              "\n",
              "    .colab-df-buttons div {\n",
              "      margin-bottom: 4px;\n",
              "    }\n",
              "\n",
              "    [theme=dark] .colab-df-convert {\n",
              "      background-color: #3B4455;\n",
              "      fill: #D2E3FC;\n",
              "    }\n",
              "\n",
              "    [theme=dark] .colab-df-convert:hover {\n",
              "      background-color: #434B5C;\n",
              "      box-shadow: 0px 1px 3px 1px rgba(0, 0, 0, 0.15);\n",
              "      filter: drop-shadow(0px 1px 2px rgba(0, 0, 0, 0.3));\n",
              "      fill: #FFFFFF;\n",
              "    }\n",
              "  </style>\n",
              "\n",
              "    <script>\n",
              "      const buttonEl =\n",
              "        document.querySelector('#df-7f61d392-240e-4648-bc3c-70c307da66f8 button.colab-df-convert');\n",
              "      buttonEl.style.display =\n",
              "        google.colab.kernel.accessAllowed ? 'block' : 'none';\n",
              "\n",
              "      async function convertToInteractive(key) {\n",
              "        const element = document.querySelector('#df-7f61d392-240e-4648-bc3c-70c307da66f8');\n",
              "        const dataTable =\n",
              "          await google.colab.kernel.invokeFunction('convertToInteractive',\n",
              "                                                    [key], {});\n",
              "        if (!dataTable) return;\n",
              "\n",
              "        const docLinkHtml = 'Like what you see? Visit the ' +\n",
              "          '<a target=\"_blank\" href=https://colab.research.google.com/notebooks/data_table.ipynb>data table notebook</a>'\n",
              "          + ' to learn more about interactive tables.';\n",
              "        element.innerHTML = '';\n",
              "        dataTable['output_type'] = 'display_data';\n",
              "        await google.colab.output.renderOutput(dataTable, element);\n",
              "        const docLink = document.createElement('div');\n",
              "        docLink.innerHTML = docLinkHtml;\n",
              "        element.appendChild(docLink);\n",
              "      }\n",
              "    </script>\n",
              "  </div>\n",
              "\n",
              "\n",
              "<div id=\"df-c36f76d3-38e5-4859-ba5a-6ed1c7a894cf\">\n",
              "  <button class=\"colab-df-quickchart\" onclick=\"quickchart('df-c36f76d3-38e5-4859-ba5a-6ed1c7a894cf')\"\n",
              "            title=\"Suggest charts\"\n",
              "            style=\"display:none;\">\n",
              "\n",
              "<svg xmlns=\"http://www.w3.org/2000/svg\" height=\"24px\"viewBox=\"0 0 24 24\"\n",
              "     width=\"24px\">\n",
              "    <g>\n",
              "        <path d=\"M19 3H5c-1.1 0-2 .9-2 2v14c0 1.1.9 2 2 2h14c1.1 0 2-.9 2-2V5c0-1.1-.9-2-2-2zM9 17H7v-7h2v7zm4 0h-2V7h2v10zm4 0h-2v-4h2v4z\"/>\n",
              "    </g>\n",
              "</svg>\n",
              "  </button>\n",
              "\n",
              "<style>\n",
              "  .colab-df-quickchart {\n",
              "      --bg-color: #E8F0FE;\n",
              "      --fill-color: #1967D2;\n",
              "      --hover-bg-color: #E2EBFA;\n",
              "      --hover-fill-color: #174EA6;\n",
              "      --disabled-fill-color: #AAA;\n",
              "      --disabled-bg-color: #DDD;\n",
              "  }\n",
              "\n",
              "  [theme=dark] .colab-df-quickchart {\n",
              "      --bg-color: #3B4455;\n",
              "      --fill-color: #D2E3FC;\n",
              "      --hover-bg-color: #434B5C;\n",
              "      --hover-fill-color: #FFFFFF;\n",
              "      --disabled-bg-color: #3B4455;\n",
              "      --disabled-fill-color: #666;\n",
              "  }\n",
              "\n",
              "  .colab-df-quickchart {\n",
              "    background-color: var(--bg-color);\n",
              "    border: none;\n",
              "    border-radius: 50%;\n",
              "    cursor: pointer;\n",
              "    display: none;\n",
              "    fill: var(--fill-color);\n",
              "    height: 32px;\n",
              "    padding: 0;\n",
              "    width: 32px;\n",
              "  }\n",
              "\n",
              "  .colab-df-quickchart:hover {\n",
              "    background-color: var(--hover-bg-color);\n",
              "    box-shadow: 0 1px 2px rgba(60, 64, 67, 0.3), 0 1px 3px 1px rgba(60, 64, 67, 0.15);\n",
              "    fill: var(--button-hover-fill-color);\n",
              "  }\n",
              "\n",
              "  .colab-df-quickchart-complete:disabled,\n",
              "  .colab-df-quickchart-complete:disabled:hover {\n",
              "    background-color: var(--disabled-bg-color);\n",
              "    fill: var(--disabled-fill-color);\n",
              "    box-shadow: none;\n",
              "  }\n",
              "\n",
              "  .colab-df-spinner {\n",
              "    border: 2px solid var(--fill-color);\n",
              "    border-color: transparent;\n",
              "    border-bottom-color: var(--fill-color);\n",
              "    animation:\n",
              "      spin 1s steps(1) infinite;\n",
              "  }\n",
              "\n",
              "  @keyframes spin {\n",
              "    0% {\n",
              "      border-color: transparent;\n",
              "      border-bottom-color: var(--fill-color);\n",
              "      border-left-color: var(--fill-color);\n",
              "    }\n",
              "    20% {\n",
              "      border-color: transparent;\n",
              "      border-left-color: var(--fill-color);\n",
              "      border-top-color: var(--fill-color);\n",
              "    }\n",
              "    30% {\n",
              "      border-color: transparent;\n",
              "      border-left-color: var(--fill-color);\n",
              "      border-top-color: var(--fill-color);\n",
              "      border-right-color: var(--fill-color);\n",
              "    }\n",
              "    40% {\n",
              "      border-color: transparent;\n",
              "      border-right-color: var(--fill-color);\n",
              "      border-top-color: var(--fill-color);\n",
              "    }\n",
              "    60% {\n",
              "      border-color: transparent;\n",
              "      border-right-color: var(--fill-color);\n",
              "    }\n",
              "    80% {\n",
              "      border-color: transparent;\n",
              "      border-right-color: var(--fill-color);\n",
              "      border-bottom-color: var(--fill-color);\n",
              "    }\n",
              "    90% {\n",
              "      border-color: transparent;\n",
              "      border-bottom-color: var(--fill-color);\n",
              "    }\n",
              "  }\n",
              "</style>\n",
              "\n",
              "  <script>\n",
              "    async function quickchart(key) {\n",
              "      const quickchartButtonEl =\n",
              "        document.querySelector('#' + key + ' button');\n",
              "      quickchartButtonEl.disabled = true;  // To prevent multiple clicks.\n",
              "      quickchartButtonEl.classList.add('colab-df-spinner');\n",
              "      try {\n",
              "        const charts = await google.colab.kernel.invokeFunction(\n",
              "            'suggestCharts', [key], {});\n",
              "      } catch (error) {\n",
              "        console.error('Error during call to suggestCharts:', error);\n",
              "      }\n",
              "      quickchartButtonEl.classList.remove('colab-df-spinner');\n",
              "      quickchartButtonEl.classList.add('colab-df-quickchart-complete');\n",
              "    }\n",
              "    (() => {\n",
              "      let quickchartButtonEl =\n",
              "        document.querySelector('#df-c36f76d3-38e5-4859-ba5a-6ed1c7a894cf button');\n",
              "      quickchartButtonEl.style.display =\n",
              "        google.colab.kernel.accessAllowed ? 'block' : 'none';\n",
              "    })();\n",
              "  </script>\n",
              "</div>\n",
              "    </div>\n",
              "  </div>\n"
            ],
            "text/plain": [
              "                                                   title  \\\n",
              "0      As U.S. budget fight looms, Republicans flip t...   \n",
              "1      U.S. military to accept transgender recruits o...   \n",
              "2      Senior U.S. Republican senator: 'Let Mr. Muell...   \n",
              "3      FBI Russia probe helped by Australian diplomat...   \n",
              "4      Trump wants Postal Service to charge 'much mor...   \n",
              "...                                                  ...   \n",
              "44893  McPain: John McCain Furious That Iran Treated ...   \n",
              "44894  JUSTICE? Yahoo Settles E-mail Privacy Class-ac...   \n",
              "44895  Sunnistan: US and Allied ‘Safe Zone’ Plan to T...   \n",
              "44896  How to Blow $700 Million: Al Jazeera America F...   \n",
              "44897  10 U.S. Navy Sailors Held by Iranian Military ...   \n",
              "\n",
              "                                                    text       subject  \\\n",
              "0      [WASHINGTON, (Reuters), -, The, head, of, a, c...  politicsNews   \n",
              "1      [WASHINGTON, (Reuters), -, Transgender, people...  politicsNews   \n",
              "2      [WASHINGTON, (Reuters), -, The, special, couns...  politicsNews   \n",
              "3      [WASHINGTON, (Reuters), -, Trump, campaign, ad...  politicsNews   \n",
              "4      [SEATTLE/WASHINGTON, (Reuters), -, President, ...  politicsNews   \n",
              "...                                                  ...           ...   \n",
              "44893  [21st, Century, Wire, says, As, 21WIRE, report...   Middle-east   \n",
              "44894  [21st, Century, Wire, says, It, s, a, familiar...   Middle-east   \n",
              "44895  [Patrick, Henningsen, , 21st, Century, WireRem...   Middle-east   \n",
              "44896  [21st, Century, Wire, says, Al, Jazeera, Ameri...   Middle-east   \n",
              "44897  [21st, Century, Wire, says, As, 21WIRE, predic...   Middle-east   \n",
              "\n",
              "                     date  target  length  \n",
              "0      December 31, 2017        1     749  \n",
              "1      December 29, 2017        1     624  \n",
              "2      December 31, 2017        1     457  \n",
              "3      December 30, 2017        1     376  \n",
              "4      December 29, 2017        1     852  \n",
              "...                   ...     ...     ...  \n",
              "44893    January 16, 2016       0     522  \n",
              "44894    January 16, 2016       0     297  \n",
              "44895    January 15, 2016       0    4171  \n",
              "44896    January 14, 2016       0     456  \n",
              "44897    January 12, 2016       0     874  \n",
              "\n",
              "[44898 rows x 6 columns]"
            ]
          },
          "execution_count": 21,
          "metadata": {},
          "output_type": "execute_result"
        }
      ],
      "source": [
        "test_data"
      ]
    },
    {
      "cell_type": "markdown",
      "metadata": {
        "id": "e9cvhUienfEo"
      },
      "source": [
        "Resetting the data for better analysis"
      ]
    },
    {
      "cell_type": "code",
      "execution_count": null,
      "metadata": {
        "id": "IEfV8vycikrl"
      },
      "outputs": [],
      "source": [
        "data.reset_index(drop=True, inplace=True)"
      ]
    },
    {
      "cell_type": "markdown",
      "metadata": {
        "id": "E5lFPGmAnjDy"
      },
      "source": [
        "Dropping the columns title,subject and data"
      ]
    },
    {
      "cell_type": "code",
      "execution_count": null,
      "metadata": {
        "id": "LAQxIqYmjQnA"
      },
      "outputs": [],
      "source": [
        "data = data.drop(['title', 'subject', 'date'], axis=1)"
      ]
    },
    {
      "cell_type": "code",
      "execution_count": null,
      "metadata": {
        "colab": {
          "base_uri": "https://localhost:8080/",
          "height": 423
        },
        "id": "854FPNZxjo11",
        "outputId": "083165b4-dd68-43a5-dd3a-6ba3e820e9ef"
      },
      "outputs": [
        {
          "data": {
            "text/html": [
              "\n",
              "  <div id=\"df-cf32c1ec-4629-431c-acbb-32d8b593dcb7\" class=\"colab-df-container\">\n",
              "    <div>\n",
              "<style scoped>\n",
              "    .dataframe tbody tr th:only-of-type {\n",
              "        vertical-align: middle;\n",
              "    }\n",
              "\n",
              "    .dataframe tbody tr th {\n",
              "        vertical-align: top;\n",
              "    }\n",
              "\n",
              "    .dataframe thead th {\n",
              "        text-align: right;\n",
              "    }\n",
              "</style>\n",
              "<table border=\"1\" class=\"dataframe\">\n",
              "  <thead>\n",
              "    <tr style=\"text-align: right;\">\n",
              "      <th></th>\n",
              "      <th>text</th>\n",
              "      <th>target</th>\n",
              "    </tr>\n",
              "  </thead>\n",
              "  <tbody>\n",
              "    <tr>\n",
              "      <th>0</th>\n",
              "      <td>WASHINGTON (Reuters) - The head of a conservat...</td>\n",
              "      <td>1</td>\n",
              "    </tr>\n",
              "    <tr>\n",
              "      <th>1</th>\n",
              "      <td>WASHINGTON (Reuters) - Transgender people will...</td>\n",
              "      <td>1</td>\n",
              "    </tr>\n",
              "    <tr>\n",
              "      <th>2</th>\n",
              "      <td>WASHINGTON (Reuters) - The special counsel inv...</td>\n",
              "      <td>1</td>\n",
              "    </tr>\n",
              "    <tr>\n",
              "      <th>3</th>\n",
              "      <td>WASHINGTON (Reuters) - Trump campaign adviser ...</td>\n",
              "      <td>1</td>\n",
              "    </tr>\n",
              "    <tr>\n",
              "      <th>4</th>\n",
              "      <td>SEATTLE/WASHINGTON (Reuters) - President Donal...</td>\n",
              "      <td>1</td>\n",
              "    </tr>\n",
              "    <tr>\n",
              "      <th>...</th>\n",
              "      <td>...</td>\n",
              "      <td>...</td>\n",
              "    </tr>\n",
              "    <tr>\n",
              "      <th>44893</th>\n",
              "      <td>21st Century Wire says As 21WIRE reported earl...</td>\n",
              "      <td>0</td>\n",
              "    </tr>\n",
              "    <tr>\n",
              "      <th>44894</th>\n",
              "      <td>21st Century Wire says It s a familiar theme. ...</td>\n",
              "      <td>0</td>\n",
              "    </tr>\n",
              "    <tr>\n",
              "      <th>44895</th>\n",
              "      <td>Patrick Henningsen  21st Century WireRemember ...</td>\n",
              "      <td>0</td>\n",
              "    </tr>\n",
              "    <tr>\n",
              "      <th>44896</th>\n",
              "      <td>21st Century Wire says Al Jazeera America will...</td>\n",
              "      <td>0</td>\n",
              "    </tr>\n",
              "    <tr>\n",
              "      <th>44897</th>\n",
              "      <td>21st Century Wire says As 21WIRE predicted in ...</td>\n",
              "      <td>0</td>\n",
              "    </tr>\n",
              "  </tbody>\n",
              "</table>\n",
              "<p>44898 rows × 2 columns</p>\n",
              "</div>\n",
              "    <div class=\"colab-df-buttons\">\n",
              "\n",
              "  <div class=\"colab-df-container\">\n",
              "    <button class=\"colab-df-convert\" onclick=\"convertToInteractive('df-cf32c1ec-4629-431c-acbb-32d8b593dcb7')\"\n",
              "            title=\"Convert this dataframe to an interactive table.\"\n",
              "            style=\"display:none;\">\n",
              "\n",
              "  <svg xmlns=\"http://www.w3.org/2000/svg\" height=\"24px\" viewBox=\"0 -960 960 960\">\n",
              "    <path d=\"M120-120v-720h720v720H120Zm60-500h600v-160H180v160Zm220 220h160v-160H400v160Zm0 220h160v-160H400v160ZM180-400h160v-160H180v160Zm440 0h160v-160H620v160ZM180-180h160v-160H180v160Zm440 0h160v-160H620v160Z\"/>\n",
              "  </svg>\n",
              "    </button>\n",
              "\n",
              "  <style>\n",
              "    .colab-df-container {\n",
              "      display:flex;\n",
              "      gap: 12px;\n",
              "    }\n",
              "\n",
              "    .colab-df-convert {\n",
              "      background-color: #E8F0FE;\n",
              "      border: none;\n",
              "      border-radius: 50%;\n",
              "      cursor: pointer;\n",
              "      display: none;\n",
              "      fill: #1967D2;\n",
              "      height: 32px;\n",
              "      padding: 0 0 0 0;\n",
              "      width: 32px;\n",
              "    }\n",
              "\n",
              "    .colab-df-convert:hover {\n",
              "      background-color: #E2EBFA;\n",
              "      box-shadow: 0px 1px 2px rgba(60, 64, 67, 0.3), 0px 1px 3px 1px rgba(60, 64, 67, 0.15);\n",
              "      fill: #174EA6;\n",
              "    }\n",
              "\n",
              "    .colab-df-buttons div {\n",
              "      margin-bottom: 4px;\n",
              "    }\n",
              "\n",
              "    [theme=dark] .colab-df-convert {\n",
              "      background-color: #3B4455;\n",
              "      fill: #D2E3FC;\n",
              "    }\n",
              "\n",
              "    [theme=dark] .colab-df-convert:hover {\n",
              "      background-color: #434B5C;\n",
              "      box-shadow: 0px 1px 3px 1px rgba(0, 0, 0, 0.15);\n",
              "      filter: drop-shadow(0px 1px 2px rgba(0, 0, 0, 0.3));\n",
              "      fill: #FFFFFF;\n",
              "    }\n",
              "  </style>\n",
              "\n",
              "    <script>\n",
              "      const buttonEl =\n",
              "        document.querySelector('#df-cf32c1ec-4629-431c-acbb-32d8b593dcb7 button.colab-df-convert');\n",
              "      buttonEl.style.display =\n",
              "        google.colab.kernel.accessAllowed ? 'block' : 'none';\n",
              "\n",
              "      async function convertToInteractive(key) {\n",
              "        const element = document.querySelector('#df-cf32c1ec-4629-431c-acbb-32d8b593dcb7');\n",
              "        const dataTable =\n",
              "          await google.colab.kernel.invokeFunction('convertToInteractive',\n",
              "                                                    [key], {});\n",
              "        if (!dataTable) return;\n",
              "\n",
              "        const docLinkHtml = 'Like what you see? Visit the ' +\n",
              "          '<a target=\"_blank\" href=https://colab.research.google.com/notebooks/data_table.ipynb>data table notebook</a>'\n",
              "          + ' to learn more about interactive tables.';\n",
              "        element.innerHTML = '';\n",
              "        dataTable['output_type'] = 'display_data';\n",
              "        await google.colab.output.renderOutput(dataTable, element);\n",
              "        const docLink = document.createElement('div');\n",
              "        docLink.innerHTML = docLinkHtml;\n",
              "        element.appendChild(docLink);\n",
              "      }\n",
              "    </script>\n",
              "  </div>\n",
              "\n",
              "\n",
              "<div id=\"df-98124ee3-9629-42c4-ba5d-decdfc3c5cb9\">\n",
              "  <button class=\"colab-df-quickchart\" onclick=\"quickchart('df-98124ee3-9629-42c4-ba5d-decdfc3c5cb9')\"\n",
              "            title=\"Suggest charts\"\n",
              "            style=\"display:none;\">\n",
              "\n",
              "<svg xmlns=\"http://www.w3.org/2000/svg\" height=\"24px\"viewBox=\"0 0 24 24\"\n",
              "     width=\"24px\">\n",
              "    <g>\n",
              "        <path d=\"M19 3H5c-1.1 0-2 .9-2 2v14c0 1.1.9 2 2 2h14c1.1 0 2-.9 2-2V5c0-1.1-.9-2-2-2zM9 17H7v-7h2v7zm4 0h-2V7h2v10zm4 0h-2v-4h2v4z\"/>\n",
              "    </g>\n",
              "</svg>\n",
              "  </button>\n",
              "\n",
              "<style>\n",
              "  .colab-df-quickchart {\n",
              "      --bg-color: #E8F0FE;\n",
              "      --fill-color: #1967D2;\n",
              "      --hover-bg-color: #E2EBFA;\n",
              "      --hover-fill-color: #174EA6;\n",
              "      --disabled-fill-color: #AAA;\n",
              "      --disabled-bg-color: #DDD;\n",
              "  }\n",
              "\n",
              "  [theme=dark] .colab-df-quickchart {\n",
              "      --bg-color: #3B4455;\n",
              "      --fill-color: #D2E3FC;\n",
              "      --hover-bg-color: #434B5C;\n",
              "      --hover-fill-color: #FFFFFF;\n",
              "      --disabled-bg-color: #3B4455;\n",
              "      --disabled-fill-color: #666;\n",
              "  }\n",
              "\n",
              "  .colab-df-quickchart {\n",
              "    background-color: var(--bg-color);\n",
              "    border: none;\n",
              "    border-radius: 50%;\n",
              "    cursor: pointer;\n",
              "    display: none;\n",
              "    fill: var(--fill-color);\n",
              "    height: 32px;\n",
              "    padding: 0;\n",
              "    width: 32px;\n",
              "  }\n",
              "\n",
              "  .colab-df-quickchart:hover {\n",
              "    background-color: var(--hover-bg-color);\n",
              "    box-shadow: 0 1px 2px rgba(60, 64, 67, 0.3), 0 1px 3px 1px rgba(60, 64, 67, 0.15);\n",
              "    fill: var(--button-hover-fill-color);\n",
              "  }\n",
              "\n",
              "  .colab-df-quickchart-complete:disabled,\n",
              "  .colab-df-quickchart-complete:disabled:hover {\n",
              "    background-color: var(--disabled-bg-color);\n",
              "    fill: var(--disabled-fill-color);\n",
              "    box-shadow: none;\n",
              "  }\n",
              "\n",
              "  .colab-df-spinner {\n",
              "    border: 2px solid var(--fill-color);\n",
              "    border-color: transparent;\n",
              "    border-bottom-color: var(--fill-color);\n",
              "    animation:\n",
              "      spin 1s steps(1) infinite;\n",
              "  }\n",
              "\n",
              "  @keyframes spin {\n",
              "    0% {\n",
              "      border-color: transparent;\n",
              "      border-bottom-color: var(--fill-color);\n",
              "      border-left-color: var(--fill-color);\n",
              "    }\n",
              "    20% {\n",
              "      border-color: transparent;\n",
              "      border-left-color: var(--fill-color);\n",
              "      border-top-color: var(--fill-color);\n",
              "    }\n",
              "    30% {\n",
              "      border-color: transparent;\n",
              "      border-left-color: var(--fill-color);\n",
              "      border-top-color: var(--fill-color);\n",
              "      border-right-color: var(--fill-color);\n",
              "    }\n",
              "    40% {\n",
              "      border-color: transparent;\n",
              "      border-right-color: var(--fill-color);\n",
              "      border-top-color: var(--fill-color);\n",
              "    }\n",
              "    60% {\n",
              "      border-color: transparent;\n",
              "      border-right-color: var(--fill-color);\n",
              "    }\n",
              "    80% {\n",
              "      border-color: transparent;\n",
              "      border-right-color: var(--fill-color);\n",
              "      border-bottom-color: var(--fill-color);\n",
              "    }\n",
              "    90% {\n",
              "      border-color: transparent;\n",
              "      border-bottom-color: var(--fill-color);\n",
              "    }\n",
              "  }\n",
              "</style>\n",
              "\n",
              "  <script>\n",
              "    async function quickchart(key) {\n",
              "      const quickchartButtonEl =\n",
              "        document.querySelector('#' + key + ' button');\n",
              "      quickchartButtonEl.disabled = true;  // To prevent multiple clicks.\n",
              "      quickchartButtonEl.classList.add('colab-df-spinner');\n",
              "      try {\n",
              "        const charts = await google.colab.kernel.invokeFunction(\n",
              "            'suggestCharts', [key], {});\n",
              "      } catch (error) {\n",
              "        console.error('Error during call to suggestCharts:', error);\n",
              "      }\n",
              "      quickchartButtonEl.classList.remove('colab-df-spinner');\n",
              "      quickchartButtonEl.classList.add('colab-df-quickchart-complete');\n",
              "    }\n",
              "    (() => {\n",
              "      let quickchartButtonEl =\n",
              "        document.querySelector('#df-98124ee3-9629-42c4-ba5d-decdfc3c5cb9 button');\n",
              "      quickchartButtonEl.style.display =\n",
              "        google.colab.kernel.accessAllowed ? 'block' : 'none';\n",
              "    })();\n",
              "  </script>\n",
              "</div>\n",
              "    </div>\n",
              "  </div>\n"
            ],
            "text/plain": [
              "                                                    text  target\n",
              "0      WASHINGTON (Reuters) - The head of a conservat...       1\n",
              "1      WASHINGTON (Reuters) - Transgender people will...       1\n",
              "2      WASHINGTON (Reuters) - The special counsel inv...       1\n",
              "3      WASHINGTON (Reuters) - Trump campaign adviser ...       1\n",
              "4      SEATTLE/WASHINGTON (Reuters) - President Donal...       1\n",
              "...                                                  ...     ...\n",
              "44893  21st Century Wire says As 21WIRE reported earl...       0\n",
              "44894  21st Century Wire says It s a familiar theme. ...       0\n",
              "44895  Patrick Henningsen  21st Century WireRemember ...       0\n",
              "44896  21st Century Wire says Al Jazeera America will...       0\n",
              "44897  21st Century Wire says As 21WIRE predicted in ...       0\n",
              "\n",
              "[44898 rows x 2 columns]"
            ]
          },
          "execution_count": 24,
          "metadata": {},
          "output_type": "execute_result"
        }
      ],
      "source": [
        "data"
      ]
    },
    {
      "cell_type": "code",
      "execution_count": null,
      "metadata": {
        "colab": {
          "base_uri": "https://localhost:8080/"
        },
        "id": "_a29A4IPjs4i",
        "outputId": "6a13bdba-5eae-459c-a876-19f3d968baad"
      },
      "outputs": [
        {
          "data": {
            "text/plain": [
              "Index(['text', 'target'], dtype='object')"
            ]
          },
          "execution_count": 25,
          "metadata": {},
          "output_type": "execute_result"
        }
      ],
      "source": [
        "data.columns"
      ]
    },
    {
      "cell_type": "markdown",
      "metadata": {
        "id": "klSVpZkSno0Z"
      },
      "source": [
        "Emot is a Python library that helps with handling emojis in text data. It provides functionalities to extract, translate, and manipulate emojis in strings.\n",
        "Usage: Emot can be used to replace or remove emojis from text, translate emojis into their meanings, or simply detect and analyze the presence of emojis within text data.\n",
        "Example: You can use Emot to replace emojis in a sentence with their textual descriptions:\n",
        "\n",
        " Contractions is a Python library that expands contractions in text data. It converts contracted forms of words into their expanded forms.\n",
        "Usage: Contractions can be used to standardize text by converting words like \"don't\" to \"do not,\" \"won't\" to \"will not,\" and so on.\n",
        "Example: Here's how you might use Contractions to expand contractions in a sentence:\n",
        "\n",
        "Swifter is a library designed to improve the speed of Pandas' apply function by utilizing Dask to perform parallel processing for operations on Pandas DataFrames.\n",
        "Usage: Swifter is used to accelerate certain operations, especially those involving apply functions on large DataFrames, by leveraging parallelization.\n",
        "Example: After installing Swifter, you can use it to apply functions faster on Pandas DataFrames:"
      ]
    },
    {
      "cell_type": "code",
      "execution_count": null,
      "metadata": {
        "colab": {
          "base_uri": "https://localhost:8080/"
        },
        "id": "g348AijX48y0",
        "outputId": "af2d5b07-9e8e-4089-b20e-7725cbf5ee85"
      },
      "outputs": [
        {
          "name": "stdout",
          "output_type": "stream",
          "text": [
            "Collecting emot\n",
            "  Downloading emot-3.1-py3-none-any.whl (61 kB)\n",
            "\u001b[2K     \u001b[90m━━━━━━━━━━━━━━━━━━━━━━━━━━━━━━━━━━━━━━━━\u001b[0m \u001b[32m61.5/61.5 kB\u001b[0m \u001b[31m1.4 MB/s\u001b[0m eta \u001b[36m0:00:00\u001b[0m\n",
            "\u001b[?25hInstalling collected packages: emot\n",
            "Successfully installed emot-3.1\n",
            "Collecting contractions\n",
            "  Downloading contractions-0.1.73-py2.py3-none-any.whl (8.7 kB)\n",
            "Collecting textsearch>=0.0.21 (from contractions)\n",
            "  Downloading textsearch-0.0.24-py2.py3-none-any.whl (7.6 kB)\n",
            "Collecting anyascii (from textsearch>=0.0.21->contractions)\n",
            "  Downloading anyascii-0.3.2-py3-none-any.whl (289 kB)\n",
            "\u001b[2K     \u001b[90m━━━━━━━━━━━━━━━━━━━━━━━━━━━━━━━━━━━━━━━━\u001b[0m \u001b[32m289.9/289.9 kB\u001b[0m \u001b[31m4.2 MB/s\u001b[0m eta \u001b[36m0:00:00\u001b[0m\n",
            "\u001b[?25hCollecting pyahocorasick (from textsearch>=0.0.21->contractions)\n",
            "  Downloading pyahocorasick-2.0.0-cp310-cp310-manylinux_2_5_x86_64.manylinux1_x86_64.manylinux_2_12_x86_64.manylinux2010_x86_64.whl (110 kB)\n",
            "\u001b[2K     \u001b[90m━━━━━━━━━━━━━━━━━━━━━━━━━━━━━━━━━━━━━━━━\u001b[0m \u001b[32m110.8/110.8 kB\u001b[0m \u001b[31m4.8 MB/s\u001b[0m eta \u001b[36m0:00:00\u001b[0m\n",
            "\u001b[?25hInstalling collected packages: pyahocorasick, anyascii, textsearch, contractions\n",
            "Successfully installed anyascii-0.3.2 contractions-0.1.73 pyahocorasick-2.0.0 textsearch-0.0.24\n",
            "Collecting swifter\n",
            "  Downloading swifter-1.4.0.tar.gz (1.2 MB)\n",
            "\u001b[2K     \u001b[90m━━━━━━━━━━━━━━━━━━━━━━━━━━━━━━━━━━━━━━━━\u001b[0m \u001b[32m1.2/1.2 MB\u001b[0m \u001b[31m15.2 MB/s\u001b[0m eta \u001b[36m0:00:00\u001b[0m\n",
            "\u001b[?25h  Preparing metadata (setup.py) ... \u001b[?25l\u001b[?25hdone\n",
            "Requirement already satisfied: pandas>=1.0.0 in /usr/local/lib/python3.10/dist-packages (from swifter) (1.5.3)\n",
            "Requirement already satisfied: psutil>=5.6.6 in /usr/local/lib/python3.10/dist-packages (from swifter) (5.9.5)\n",
            "Requirement already satisfied: dask[dataframe]>=2.10.0 in /usr/local/lib/python3.10/dist-packages (from swifter) (2023.8.1)\n",
            "Requirement already satisfied: tqdm>=4.33.0 in /usr/local/lib/python3.10/dist-packages (from swifter) (4.66.1)\n",
            "Requirement already satisfied: click>=8.0 in /usr/local/lib/python3.10/dist-packages (from dask[dataframe]>=2.10.0->swifter) (8.1.7)\n",
            "Requirement already satisfied: cloudpickle>=1.5.0 in /usr/local/lib/python3.10/dist-packages (from dask[dataframe]>=2.10.0->swifter) (2.2.1)\n",
            "Requirement already satisfied: fsspec>=2021.09.0 in /usr/local/lib/python3.10/dist-packages (from dask[dataframe]>=2.10.0->swifter) (2023.6.0)\n",
            "Requirement already satisfied: packaging>=20.0 in /usr/local/lib/python3.10/dist-packages (from dask[dataframe]>=2.10.0->swifter) (23.2)\n",
            "Requirement already satisfied: partd>=1.2.0 in /usr/local/lib/python3.10/dist-packages (from dask[dataframe]>=2.10.0->swifter) (1.4.1)\n",
            "Requirement already satisfied: pyyaml>=5.3.1 in /usr/local/lib/python3.10/dist-packages (from dask[dataframe]>=2.10.0->swifter) (6.0.1)\n",
            "Requirement already satisfied: toolz>=0.10.0 in /usr/local/lib/python3.10/dist-packages (from dask[dataframe]>=2.10.0->swifter) (0.12.0)\n",
            "Requirement already satisfied: importlib-metadata>=4.13.0 in /usr/local/lib/python3.10/dist-packages (from dask[dataframe]>=2.10.0->swifter) (6.8.0)\n",
            "Requirement already satisfied: python-dateutil>=2.8.1 in /usr/local/lib/python3.10/dist-packages (from pandas>=1.0.0->swifter) (2.8.2)\n",
            "Requirement already satisfied: pytz>=2020.1 in /usr/local/lib/python3.10/dist-packages (from pandas>=1.0.0->swifter) (2023.3.post1)\n",
            "Requirement already satisfied: numpy>=1.21.0 in /usr/local/lib/python3.10/dist-packages (from pandas>=1.0.0->swifter) (1.23.5)\n",
            "Requirement already satisfied: zipp>=0.5 in /usr/local/lib/python3.10/dist-packages (from importlib-metadata>=4.13.0->dask[dataframe]>=2.10.0->swifter) (3.17.0)\n",
            "Requirement already satisfied: locket in /usr/local/lib/python3.10/dist-packages (from partd>=1.2.0->dask[dataframe]>=2.10.0->swifter) (1.0.0)\n",
            "Requirement already satisfied: six>=1.5 in /usr/local/lib/python3.10/dist-packages (from python-dateutil>=2.8.1->pandas>=1.0.0->swifter) (1.16.0)\n",
            "Building wheels for collected packages: swifter\n",
            "  Building wheel for swifter (setup.py) ... \u001b[?25l\u001b[?25hdone\n",
            "  Created wheel for swifter: filename=swifter-1.4.0-py3-none-any.whl size=16505 sha256=78fae5c99fb08d788291fa419395c624f2bbb97ac088071f3a3a22af2979c493\n",
            "  Stored in directory: /root/.cache/pip/wheels/e4/cf/51/0904952972ee2c7aa3709437065278dc534ec1b8d2ad41b443\n",
            "Successfully built swifter\n",
            "Installing collected packages: swifter\n",
            "Successfully installed swifter-1.4.0\n"
          ]
        }
      ],
      "source": [
        "\n",
        "!pip install emot\n",
        "!pip install contractions\n",
        "!pip install swifter"
      ]
    },
    {
      "cell_type": "markdown",
      "metadata": {
        "id": "__c8FuThkGGR"
      },
      "source": [
        "# Data Preprocessing"
      ]
    },
    {
      "cell_type": "code",
      "execution_count": null,
      "metadata": {
        "colab": {
          "base_uri": "https://localhost:8080/",
          "height": 35
        },
        "id": "29wCbi404xBm",
        "outputId": "c2e65c97-03a2-438d-a047-7823f714634d"
      },
      "outputs": [
        {
          "data": {
            "application/vnd.google.colaboratory.intrinsic+json": {
              "type": "string"
            },
            "text/plain": [
              "'text parenthesis square curly bracket hashtags smiling face with heart eyes'"
            ]
          },
          "execution_count": 32,
          "metadata": {},
          "output_type": "execute_result"
        }
      ],
      "source": [
        "from nltk.stem import WordNetLemmatizer\n",
        "from nltk.corpus import stopwords\n",
        "from nltk.stem import wordnet\n",
        "import nltk\n",
        "from nltk.stem import WordNetLemmatizer\n",
        "import re\n",
        "import string as module_string\n",
        "import emot\n",
        "from emot.emo_unicode import UNICODE_EMOJI # For emojis\n",
        "from emot.emo_unicode import EMOTICONS_EMO\n",
        "import contractions\n",
        "from  textblob import TextBlob\n",
        "\n",
        "stop = stopwords.words(\"english\")\n",
        "\n",
        "\n",
        "lem = WordNetLemmatizer()\n",
        "def convert_emojis(text):\n",
        "    for emot in UNICODE_EMOJI:\n",
        "        text = text.replace(emot, \"_\".join(UNICODE_EMOJI[emot].replace(\",\",\"\").replace(\":\",\"\").split()))\n",
        "    return text\n",
        "\n",
        "from nltk.corpus import wordnet\n",
        "\n",
        "lemmatizer = WordNetLemmatizer()\n",
        "\n",
        "\n",
        "def pos_tagger(nltk_tag):\n",
        "    if nltk_tag.startswith('J'):\n",
        "        return wordnet.ADJ\n",
        "    elif nltk_tag.startswith('V'):\n",
        "        return wordnet.VERB\n",
        "    elif nltk_tag.startswith('N'):\n",
        "        return 'n'\n",
        "    elif nltk_tag.startswith('R'):\n",
        "        return wordnet.ADV\n",
        "    else:\n",
        "        return None\n",
        "\n",
        "\n",
        "def clean_text(s):\n",
        "    lowered_text = s.lower()\n",
        "    # Handling html text\n",
        "    sentence = cleanhtml(lowered_text)\n",
        "    # Handling underscore and -\n",
        "    sentence = re.sub(\"-|_\", \" \", sentence)\n",
        "\n",
        "    # Extending abbrevations like he's\n",
        "    sentence  = contractions.fix(sentence)\n",
        "    # Handling newline and tab space charecters\n",
        "    sentence = re.sub('\\n|\\t', \"\", sentence)\n",
        "    \"\"\"\n",
        "    For Typos\n",
        "    But slows the processing many times\n",
        "    sentence = str(TextBlob(sentence).correct())\n",
        "    \"\"\"\n",
        "    # Handling symbols (mainly for puncs)\n",
        "    no_punc = clean_punc(sentence)\n",
        "    no_num  = re.sub(r'[0-9]+', '', no_punc)\n",
        "    # Getting the pos_tags after tozenizing\n",
        "    l = nltk.pos_tag(nltk.word_tokenize(no_num))\n",
        "    # Converting pos_tag to approriate format for lemmatizer to work with\n",
        "    l = [(word,pos_tagger(tag)) for (word, tag) in l if (word not in stop) and (not word.isdigit())]\n",
        "    # Using lemmatizer according to the pos_tags for proper lemmatizing\n",
        "    useful = \" \".join([lem.lemmatize(i, pos=j) for i, j in l if j != None])\n",
        "    # Converting emoji to text\n",
        "    useful = convert_emojis(useful)\n",
        "    useful = re.sub(\"-|_\", \" \", useful)\n",
        "    return useful.strip()\n",
        "def cleanhtml(sentence):\n",
        "  exp = re.compile(\"<.*?>\")\n",
        "  cleantext = exp.sub(\" \", sentence)\n",
        "  return cleantext\n",
        "\n",
        "def clean_punc(text):\n",
        "  exp =('[%s]' % re.escape(module_string.punctuation))\n",
        "  return re.compile(exp).sub('', text)\n",
        "text = \"<div> </div>This is not  a text!!! It has no (parenthesis), square and  curly brackets [[{{}}]]  and hashtags #.-_$ 20 😍\"\n",
        "clean_text(text)\n"
      ]
    },
    {
      "cell_type": "markdown",
      "metadata": {
        "id": "Iq26H2rgkSjO"
      },
      "source": [
        "Importing swifter for parallel processing"
      ]
    },
    {
      "cell_type": "code",
      "execution_count": null,
      "metadata": {
        "colab": {
          "base_uri": "https://localhost:8080/",
          "height": 49,
          "referenced_widgets": [
            "42f1904f8bdb4785b44ff8c19b980463",
            "a5d04d0d9890460aa9b17807c8c6ca0c",
            "3a6f83f9858b467497f1677f6eec188b",
            "84399a54772d472dbc56216ed74eff30",
            "83cb801e7cd04c179adf2c13a95ea6e8",
            "b9721f4971ae4cf1837f285cf4582c0c",
            "0475986efacd43fdaf6f9b1c17193a79",
            "58492c6ee17142f78aa77b9452439cf4",
            "c19dfae61e9c4c28a3058eb302e383a1",
            "96bfe2bf41204c3f9bdb73e2ac7c63b7",
            "015d7387612544a89a2d0b54aadeb581"
          ]
        },
        "id": "W0JTq9q_4xNm",
        "outputId": "68f4e4c6-271d-4463-e845-d9386fab5205"
      },
      "outputs": [
        {
          "data": {
            "application/vnd.jupyter.widget-view+json": {
              "model_id": "42f1904f8bdb4785b44ff8c19b980463",
              "version_major": 2,
              "version_minor": 0
            },
            "text/plain": [
              "Pandas Apply:   0%|          | 0/44898 [00:00<?, ?it/s]"
            ]
          },
          "metadata": {},
          "output_type": "display_data"
        }
      ],
      "source": [
        "import swifter\n",
        "data.reset_index(inplace=True, drop=True)\n",
        "data.text = data.text.swifter.apply(clean_text)"
      ]
    },
    {
      "cell_type": "code",
      "execution_count": null,
      "metadata": {
        "id": "vwwxcqtULd83"
      },
      "outputs": [],
      "source": [
        "data = data.sample(frac=1)"
      ]
    },
    {
      "cell_type": "code",
      "execution_count": null,
      "metadata": {
        "id": "KM-tisoj9pMl"
      },
      "outputs": [],
      "source": [
        "data.reset_index(inplace=True, drop=True)"
      ]
    },
    {
      "cell_type": "markdown",
      "metadata": {
        "id": "eACKCSCVjxEG"
      },
      "source": [
        "# Train Test Split"
      ]
    },
    {
      "cell_type": "code",
      "execution_count": null,
      "metadata": {
        "id": "4JuLIek4zj46"
      },
      "outputs": [],
      "source": [
        "from sklearn.model_selection import train_test_split\n",
        "from sklearn.model_selection import StratifiedShuffleSplit\n",
        "split = StratifiedShuffleSplit(n_splits = 1, test_size=0.2, random_state=42)\n",
        "for train_idx, test_idx in split.split(data, data.target):\n",
        "  X_train = data.loc[train_idx].text.values\n",
        "  X_test = data.loc[test_idx].text.values\n",
        "  y_train = data.loc[train_idx].target.values\n",
        "  y_test = data.loc[test_idx].target.values\n"
      ]
    },
    {
      "cell_type": "code",
      "execution_count": null,
      "metadata": {
        "colab": {
          "base_uri": "https://localhost:8080/"
        },
        "id": "YCdABpzU1lm3",
        "outputId": "dfe6d380-1e10-4d2d-b9f4-e1df3765fb49"
      },
      "outputs": [
        {
          "data": {
            "text/plain": [
              "array(['WASHINGTON (Reuters) - U.S. Republican presidential candidate Ted Cruz’s campaign is vetting former business executive Carly Fiorina as a possible vice presidential pick, ABC News said on Friday. Earlier, Cruz’s campaign said it had narrowed its running mate options to a short list. Fiorina, a former CEO of Hewlett Packard, dropped out of the presidential race in February. ',\n",
              "       'VATICAN CITY (Reuters) - Pope Francis appeared to harden the Catholic Church s teaching against nuclear weapons on Friday, saying countries should not stockpile them even for the purpose of deterrence. His remarks, at the start of a disarmament conference that brought 11 Nobel Peace Prize winners to the Vatican, appeared to go further than previous popes. They have said that while nuclear weapons should never be used, holding arsenals solely to deter other countries from using them could be morally acceptable as a step toward achieving a nuclear-free world. Addressing the group in the 16th century frescoed Clementine Hall of the Vatican s Apostolic Palace, Francis spoke of  the catastrophic humanitarian and environmental effects of any employment of nuclear devices . He added:  If we also take into account the risk of an accidental detonation as a result of error of any kind, the threat of their use, as well as their very possession, is to be firmly condemned.  As tensions between the United States and North Korea have increased, the pope has often warned that a nuclear conflict would destroy a good part of humanity and called for a third country to mediate the dispute. In his address, Francis did not directly mention the North Korea tension, but spoke in general of a  climate of instability and conflict  and a  mentality of fear  in the world today.  International relations cannot be held captive to military force, mutual intimidation, and the parading of stockpiles of arms,  he said. He also said international laws against proliferation of nuclear weapons had not kept new states from acquiring them. Money used to develop or modernize weapons should instead be spent on helping the poor and protecting the environment. Douglas Roche, Canada s former Ambassador for Disarmament and a former senator, told the conference the pope s remarks against possession of nuclear weapons were  historic  and asked  national conferences of Catholic bishops to work to make it known. Another participant suggested the pope should write an encyclical letter addressed to all Catholics on the moral imperative to ban nuclear weapons. Among those who met the pope were Beatrice Fihn, executive director of the International Campaign to Abolish Nuclear Weapons (ICAN) and Mohamed El Baradei, director general emeritus of the International Atomic Energy Agency (IAEA). Fihn, whose group won the Nobel this year, told Reuters she asked the pope to lead all 1.2 billion Catholics around the world in prayer for an end to the threat of nuclear weapons on Sunday, December 10, when her group is due to collect the prize.  Tensions are really high and the risks for nuclear weapons  use is higher than at the height of the Cold War, the Cuban missile crisis. I think that s really serious and we need to urgently do something about this,  she said. El Baradei, who won the peace prize in 2015, was asked how he would respond to U.S. President Donald Trump s threat to use unprecedented  fire and fury  against North Korea if it threatened the United States.  I go to pray,  he said. ',\n",
              "       \"Really Andrew? Does all of New York really stand against racism? Isn t  Al Sharpton, one of the greatest race agitators of all time, a resident of New York? Wasn t he one of Barack Obama s generals in the race war he spent eight years orchestrating from our White House? Wasn t Al Sharpton behind the massive march in New York City where organizers held bull horns calling for the death of police officers? Where was your selective outrage when Al Sharpton was one of the most frequent visitors to our White House?Who could forget the infamous  Beer Summit,  where former President Barack Obama hosted Prof Henry Gates, a prominent black scholar, and Sgt James Crowley, a white police sergeant, for beers in the White House Rose Garden, that was actually a photo-op for Obama where he pretended to be working towards the goal of defusing racial tension in America.And now, as though the last 8 years of race agitating from the highest office in the land never happened, Governor Andrew Cuomo s joining the leftist mob in an attempt to erase American history, foolishly believing that if Democrats are seen as the party removing confederate statues, perhaps Americans will forget that the Democrat Party was in fact, the party who fought so hard to keep slavery alive in America.Here s the ridiculous tweet from Governor Andrew Cuomo:Robert E. Lee and Stonewall Jackson will be removed from the CUNY hall of great Americans because New York stands against racism.  Andrew Cuomo (@NYGovCuomo) August 17, 2017Sean Davis, co-founder of The Federalist quickly schooled the leftist governor on the history behind the naming of the state of New York:New York is named after the head of a British slave-trading monopoly. https://t.co/edp3ZzYWyr  Sean Davis (@seanmdav) August 17, 2017The Duke of York was the main shareholder in and the director of the Company of Royal Adventurers Trading in Africa; established at the time of the restoration of the English monarchy in 1660. The shareholders in this Company were a combination of the Stuart Royal family along with a number of wealthy London merchants. The Company established London s monopoly of the English slave trade. It created slave ports on the West coast of Africa where British-produced goods were exchanged for Africans who were then transported as slaves to colonies in the Caribbean and the Americas.In 1664, the Duke of York, as Admiral of the Navy, annexed the Dutch colony of New Amsterdam (it was then renamed New York in his honour). When the Duke took over New York one of the first actions of the new authority was to grant the colony port privileges and the right to use warehouses to ships engaged in the slave trade (1) ~ i.e. ships owned by the Company of Royal Adventurers Trading in Africa in which the Duke was the largest shareholder.Previously, under the Dutch West India Company, the African slaves of New Amsterdam had lived in what was known as  half-freedom ; that is to say under the Dutch they had some rights and some, limited, independence. However, once under Stuart, British rule they became chattel slaves (i.e perceived as personal property of the slave owners in a way that was different from previous slave-systems. It was slavery used as labour under an emerging and consolidating capitalism). Though it is worth noting that these urban slaves of New York never accepted the complete servitude endured by their rural counterparts.President Trump took to Twitter this morning to denounce decisions being made by leftists in positions of authority to erase the history of our great nation:Sad to see the history and culture of our great country being ripped apart with the removal of our beautiful statues and monuments. You ..  Donald J. Trump (@realDonaldTrump) August 17, 2017 can't change history, but you can learn from it. Robert E Lee, Stonewall Jackson   who's next, Washington, Jefferson? So foolish! Also  Donald J. Trump (@realDonaldTrump) August 17, 2017 the beauty that is being taken out of our cities, towns and parks will be greatly missed and never able to be comparably replaced!  Donald J. Trump (@realDonaldTrump) August 17, 2017\",\n",
              "       ...,\n",
              "       'Outgoing Army Chief of Staff Gen. Ray Odierno also said the rise of ISIS could have been stopped if Obama didn t pull out troops from IraqOdierno said in an interview with Fox News published Wednesday that it s very hard to watch Iraq implode at the hands of ISIS after the gains that were made during the Iraq War. It s frustrating to watch it,  Odierno said.  I go back to the work we did in 2007, 2008, 2009, and 2010 and we got it to a place that was really good. Violence was low, the economy was growing, politics looked like it was heading in the right direction. He contends that if the United States had left more troops in the region, ISIS would not have been able to capture large portions of that country or neighboring Syria. If we had stayed a little more engaged, I think maybe it might have been prevented,  Odierno told Fox News.  I ve always believed the United States played the role of honest broker between all the groups and when we pulled ourselves out, we lost that role. The outgoing Army chief says that he wanted the United States to keep 30,000-35,000 troops in Iraq, but that his recommendation was not followed. I think it would have been good for us to stay,  he said.After Mosul fell to ISIS last year, Odierno says that the White House did not contact him for input, even though he had commanded troops for a longer time there than anyone else. All my work was given to [Joint Chiefs] Chairman [Martin] Dempsey,  Odiernio told Fox News.  I never talked directly to the president about it at that time, but I talked to the secretary of defense and I m sure he relayed all of my thoughts. He said that he is also concerned about the cuts being made to the number of Army troops. In 2010, the Army had 570,000 soldiers and today there are 490,000. In my mind, we don t have the ability to deter. The reason we have a military is to deter conflict and prevent wars. And if people believe we are not big enough to respond, they miscalculate,  Odierno said.Troop levels in the Army are to fall even further, down to 450,000, based on a decision made two years ago. That number will put the Army at the fighting level it had before the attacks on Sept. 11, 2001. I believed at the time we could do that,  the outgoing Army chief told Fox News.  But I said we were on the razor s edge that we could actually do our mission at 450. According to Odierno,  Two years ago, we didn t think we had a problem in Europe.   [Now] Russia is reasserting themselves. We didn t think we d have a problem again in Iraq and ISIS has emerged. So, with Russia becoming more of a threat, with ISIS becoming more of a threat, in my mind, we are on a dangerous balancing act right now with capability. When we go to 450, we are going to have to stop doing something,  he added.Odierno contends that the military cuts are making U.S. enemies more brazen. I believe they question whether we will be able to respond, and so they re willing to take maybe a bit more risk than they might have just a few years ago. Odierno said in a separate interview with reporters that he thinks it will take 10 to 20 years to defeat ISIS. Via: NewsMaxHere s a video ISIS made to mock the US Military and warn of their defeat after Obama announced his withdrawal of US troops from Iraq: ',\n",
              "       'Republicans who call themselves  pro-life  are presenting a health care plan that would literally kill tens of thousands of people by implementing devastating cuts to Medicaid and Sister Simone Campbell, leader of the advocacy group Nuns on a Bus, is wondering how GOPers can give themselves that moniker while putting our most needy, including the elderly and children, at risk.Campbell called the Affordable Care Act a  life-saving bill  and in an op-ed for The Hill she said she wants to call their bluff on their proclaimed pro-life stance. I am outraged to see allegedly pro-life Republicans put forward a healthcare bill that will strip millions of people of their healthcare. Not only that, but this bill preys on the most vulnerable! This is antithetical to any faith,  she writes.  The House and Senate healthcare proposals are the antithesis of a pro-life stance and needs to be named as such. People will lose their lives if this bill becomes law. Then the Sister hit Republicans where it hurts: with facts. It used to be very difficult for women to find insurance coverage for pre-natal and maternity care. Under current law, maternal health (pregnancy and postpartum services) is an essential benefit, which insurers must offer without charging extra,  she continued.  This is a pro-life benefit   but the GOP is set to eliminate the essential health benefits, including maternity care, for millions of expecting mothers. Campbell noted that Trumpcare  would bring us back to a time when  maternity riders  forced women to pay more than many could afford just to bring a child into the world.  This is not pro-life. She pointed to the Republicans proposing  to cut and cap Medicaid funding for people with disabilities and those living below the poverty level in our nation  and she goes on to say that  45 percent of births in the United States are paid for by Medicaid! Campbell writes that pro-life  members of Congress are actually dismissing the needs of mothers and their newborn children. Supporting Medicaid funding is a pro-life stance,  she says. Campbell also notes that Medicaid benefits senior citizens who live in nursing homes,  including many Catholic Sisters who have served their entire lives tending to the most vulnerable. She points to Medicaid helping those with disabilities and says that  Republican efforts to cut Medicaid funding arbitrarily will jeopardize their lives and wellbeing. Taking money away from seniors, people in poverty and people with disabilities is wrong,  she writes.  Everyone has a right to live in dignity. The Sister says Republicans are only concerned with lining the pockets of the wealthiest and are doing so at the expense of Medicaid and our most vulnerable people. Indeed, the cuts to Medicaid will afford the wealthy a nice tax break while lower-income Americans die and/or suffer. If Republicans are truly pro-life,  she writes,  then they will place people, not corporate interests, at the center of their decision-making. And, when people are healthier, we all do better. She called out her  pro-life colleagues :So my pro-life colleagues: Listen up. To be pro-life requires us to care about ALL of life, not just birth or death. Mothers and their infants need medical coverage. The disabled and the elderly need the promise that they can live in dignity for their entire natural life. This means that we must not cap individual or state expenditures for Medicaid or remove services from the defined benefits. It also means that we must not block grant Medicaid to the states or institute a per capita cap.She concluded her op-ed by calling on Senators to reject Trump/Republicare and requested to  have a real conversation that doesn t include 23 million Americans losing their healthcare. Amen, Sister!Image via screen capture. ',\n",
              "       'WASHINGTON (Reuters) - Rarely have two U.S. presidential front-runners needed more from running mates than Hillary Clinton and Donald Trump. The Democratic and Republican leaders in the 2016 White House race are unusually unpopular nationally, polls show, despite their success with voters in their respective parties. Clinton has struggled to generate excitement about her candidacy and assuage voter concerns about her trustworthiness, while Trump fares badly among women and minorities in polls. Their weaknesses only increase the importance of their vice presidential pick, who could potentially help them rally support in key demographics ahead of the Nov. 8 vote - if each gets their party’s nomination.  Hispanic advocacy groups are lobbying Clinton to choose a Hispanic running mate. The person most often mentioned - Julian Castro, the housing and urban development secretary who is one of the party’s rising stars - is opposed by liberal activists who accuse him of favoring Wall Street firms in the sale of distressed mortgages. Some of the groups have started an online petition against Castro’s candidacy, which has angered the Latino Victory Fund, a nonpartisan advocacy group that has been pushing for a Latino vice-presidential nominee.  “These attacks against Secretary Castro are completely unfounded, short sighted, and only serve to pit us against each other,” said Cristobal Alex, the fund’s president. The U.S. Hispanic Chamber of Commerce has called on Clinton to choose Castro.  Democratic strategist Joe Velasquez, a Clinton supporter, said a Hispanic running mate could make a difference in swing states like Florida, Colorado, Nevada and Virginia, which have large Hispanic populations. Polls show Hispanic voters overwhelmingly dislike Trump, in part because of his comments likening illegal immigrants to criminals. U.S. Labor Secretary Tom Perez has also been mentioned as a possible Latino pick. But Clinton’s decision isn’t clear-cut. Given Trump’s unpopularity with some moderate Republicans, she may want a vice-president who can wrest away some of those voters. Someone like Tim Kaine, a senator from Virginia who personally opposes abortion but supports a woman’s right to choose, or New Jersey Senator Cory Booker, who has close ties to the financial sector.  There was no immediate comment from Castro, Kaine, Perez or Booker. Clinton though could give a higher priority to winning over liberal democrats, who see her as too pro-Wall Street and have flocked to her rival, Senator Bernie Sanders of Vermont. Sherrod Brown, a senator from Ohio who is a fierce opponent of global trade deals, and Senator Elizabeth Warren of Massachusetts, a fierce critic of the banking industry, have both been named as possible vice president picks.   Brown and Warren did not respond to requests for comment. The Clinton campaign confirmed a report in the Boston Globe that Clinton would include at least one woman in any short list of vice presidential candidates to be vetted. Democratic strategist Chris Kofinis is skeptical that Clinton needs to spend much time appeasing the liberal wing of her party if she wins the nomination. “As much as people have made out this race between Clinton and Sanders to be an ideological death match, Donald Trump will do more to bring the Democratic Party together than anyone has ever done,” he said. Trump is viewed unfavorably by 80 percent of Democrats,     according to a recent Reuters/Ipsos tracking poll.  But other Democrats fear the increasingly bitter Clinton-Sanders battle, has fractured the party. Jim Manley, a former top aide to Senate Minority Leader Harry Reid, said Clinton’s pick “has to be viewed through a prism of, among other things, their ability to bring on Sanders voters.” Reuters/Ipsos polling suggests Clinton would struggle to attract some Sanders voters. When asked what they would do if Clinton was the nominee, 15 percent of Sanders supporters said they would stay home on Election Day and 16 percent said they would vote for the Republican nominee. Forty-nine percent said they would vote for Clinton. Both the Clinton and Trump campaigns refused to comment on the vice-presidential speculation, saying they remain focused on winning their respective nominating contests. Clinton holds a commanding lead among the party delegates who will pick the party’s nominee, but Sanders has pledged to keep fighting. Trump may not have the Republican nomination locked down until the summer, if he can beat off challenges by Texas Senator Ted Cruz and Ohio Governor John Kasich, who is running a distant third in the Republican race. Typically, vice-presidential selections are vetted for weeks after a candidate has emerged as the party’s nominee and are announced shortly before the party conventions in the summer.  Trump’s polarizing candidacy could make his job of finding a running mate more difficult. For much of the campaign season, many in the Republican establishment, along with well-funded political committees, have been looking for ways to keep Trump from winning the Republican nomination. Trump has stated his preference for an established office-holder rather than a political neophyte like himself, specifically listing Wisconsin Governor Scott Walker, Florida Senator Marco Rubio, and Kasich.  Walker, who has endorsed Cruz, laughed when he was asked about the prospect, but has been noncommittal. Rubio has repeatedly rejected the idea. Kasich last week said there was “zero chance” of his playing second fiddle to Trump, despite mounting speculation that he would be an ideal candidate because of his deep government experience and Ohio’s crucial role as a general election swing state.  A source close to Kasich told Reuters the governor has no interest in working with Trump as the two don’t agree on much.  Cruz, too, said this week he would not be Trump’s running mate, while telling reporters in Hollywood, Florida on Wednesday that “a Trump-Kasich ticket loses to Hillary Clinton.” Tony Fratto, a Republican strategist, said Trump may be forced to turn to “guys at the end of their careers, not people who believe they have a future. Someone in their last act who has nothing to lose by accepting an offer from Trump.”  That might include New Jersey Governor Chris Christie, who has been one or the few establishment politicians to campaign for Trump, or Florida Governor Rick Scott, who has endorsed Trump. Both are in their final terms in office.  Christie was asked about the prospect in an interview with a New Jersey radio station on Thursday. “The way I think about these things, you never say ‘never,’” he said.  Other names linked to Trump include former New York Mayor Rudolph Giuliani, Alabama Senator Jeff Sessions, a Trump adviser, and Ben Carson, the retired neurosurgeon and former presidential candidate. There was no immediate comment from Sessions, Scott and Giuliani. Armstrong Williams, a close adviser to Carson, said the former White House hopeful doesn’t want the slot. “At this point he has no interest in being in politics ... none,” Williams said. “I think Trump is looking for someone with government experience, someone who is more political.”  '],\n",
              "      dtype=object)"
            ]
          },
          "execution_count": 63,
          "metadata": {},
          "output_type": "execute_result"
        }
      ],
      "source": [
        "X_train"
      ]
    },
    {
      "cell_type": "markdown",
      "metadata": {
        "id": "e2C6M8UTj3Ap"
      },
      "source": [
        "#CountVectorizer to convert textual to numerical data like sparse matrix"
      ]
    },
    {
      "cell_type": "code",
      "execution_count": null,
      "metadata": {
        "id": "FRBapzDqoMPZ"
      },
      "outputs": [],
      "source": [
        "from sklearn.feature_extraction.text import CountVectorizer\n",
        "vectorizer = CountVectorizer()\n",
        "import pandas as pd\n",
        "\n",
        "\n",
        "\n",
        "X_train_vec = vectorizer.fit_transform(X_train)\n",
        "test_vec = vectorizer.transform(X_test)\n"
      ]
    },
    {
      "cell_type": "markdown",
      "metadata": {
        "id": "iVC9Yjk4ErO9"
      },
      "source": [
        "# Logistic Regression Model Implementation"
      ]
    },
    {
      "cell_type": "code",
      "execution_count": null,
      "metadata": {
        "colab": {
          "base_uri": "https://localhost:8080/"
        },
        "id": "hdkpY3on7yEs",
        "outputId": "c6e95d82-2a1c-425f-c24c-89b32f0cf472"
      },
      "outputs": [
        {
          "name": "stdout",
          "output_type": "stream",
          "text": [
            "Training Accuracy: 0.9999721588061696\n",
            "Testing Accuracy: 0.9961024498886414\n",
            "Classification Report:\n",
            "              precision    recall  f1-score   support\n",
            "\n",
            "           0       1.00      1.00      1.00      4696\n",
            "           1       1.00      1.00      1.00      4284\n",
            "\n",
            "    accuracy                           1.00      8980\n",
            "   macro avg       1.00      1.00      1.00      8980\n",
            "weighted avg       1.00      1.00      1.00      8980\n",
            "\n"
          ]
        },
        {
          "name": "stderr",
          "output_type": "stream",
          "text": [
            "/usr/local/lib/python3.10/dist-packages/sklearn/linear_model/_logistic.py:458: ConvergenceWarning: lbfgs failed to converge (status=1):\n",
            "STOP: TOTAL NO. of ITERATIONS REACHED LIMIT.\n",
            "\n",
            "Increase the number of iterations (max_iter) or scale the data as shown in:\n",
            "    https://scikit-learn.org/stable/modules/preprocessing.html\n",
            "Please also refer to the documentation for alternative solver options:\n",
            "    https://scikit-learn.org/stable/modules/linear_model.html#logistic-regression\n",
            "  n_iter_i = _check_optimize_result(\n"
          ]
        }
      ],
      "source": [
        "from sklearn.linear_model import LogisticRegression\n",
        "from sklearn.metrics import classification_report\n",
        "\n",
        "# Assuming log_reg, X_train_vec, y_train, test_vec, y_test are defined as in your code\n",
        "log_reg=LogisticRegression()\n",
        "# Fit the logistic regression model\n",
        "log_reg.fit(X_train_vec, y_train)\n",
        "\n",
        "# Print accuracy scores\n",
        "print(\"Training Accuracy:\", log_reg.score(X_train_vec, y_train))\n",
        "print(\"Testing Accuracy:\", log_reg.score(test_vec, y_test))\n",
        "\n",
        "# Make predictions on the test set\n",
        "y_pred = log_reg.predict(test_vec)\n",
        "\n",
        "# Print classification report\n",
        "print(\"Classification Report:\")\n",
        "print(classification_report(y_test, y_pred))"
      ]
    },
    {
      "cell_type": "markdown",
      "metadata": {
        "id": "8i5yUz4rE1JD"
      },
      "source": [
        "# Naive Bayes Model Implementation"
      ]
    },
    {
      "cell_type": "code",
      "execution_count": null,
      "metadata": {
        "colab": {
          "base_uri": "https://localhost:8080/"
        },
        "id": "z0U6oxHDDW7l",
        "outputId": "540f5c48-0b7c-4f94-9c61-2b6031f4dcfa"
      },
      "outputs": [
        {
          "name": "stdout",
          "output_type": "stream",
          "text": [
            "Training Accuracy: 0.9616348349017206\n",
            "Testing Accuracy: 0.9518930957683742\n",
            "Classification Report:\n",
            "              precision    recall  f1-score   support\n",
            "\n",
            "           0       0.95      0.95      0.95      4696\n",
            "           1       0.95      0.95      0.95      4284\n",
            "\n",
            "    accuracy                           0.95      8980\n",
            "   macro avg       0.95      0.95      0.95      8980\n",
            "weighted avg       0.95      0.95      0.95      8980\n",
            "\n"
          ]
        }
      ],
      "source": [
        "from sklearn.naive_bayes import MultinomialNB\n",
        "from sklearn.metrics import classification_report\n",
        "\n",
        "# Assuming nb_model, X_train_vec, y_train, test_vec, y_test are defined as in your code\n",
        "nb_model = MultinomialNB()\n",
        "# Fit the Naive Bayes model\n",
        "nb_model.fit(X_train_vec, y_train)\n",
        "\n",
        "# Print accuracy scores\n",
        "print(\"Training Accuracy:\", nb_model.score(X_train_vec, y_train))\n",
        "print(\"Testing Accuracy:\", nb_model.score(test_vec, y_test))\n",
        "\n",
        "# Make predictions on the test set\n",
        "y_pred_nb = nb_model.predict(test_vec)\n",
        "\n",
        "# Print classification report\n",
        "print(\"Classification Report:\")\n",
        "print(classification_report(y_test, y_pred_nb))\n"
      ]
    },
    {
      "cell_type": "markdown",
      "metadata": {
        "id": "-QgK5pGqE6r-"
      },
      "source": [
        "# Random Forest Classifier"
      ]
    },
    {
      "cell_type": "code",
      "execution_count": null,
      "metadata": {
        "colab": {
          "base_uri": "https://localhost:8080/"
        },
        "id": "qVosMeITDm8j",
        "outputId": "0056216c-327e-4e17-cf3c-ed3b977bf60d"
      },
      "outputs": [
        {
          "name": "stdout",
          "output_type": "stream",
          "text": [
            "Training Accuracy: 0.9999721588061696\n",
            "Testing Accuracy: 0.9884187082405346\n",
            "Classification Report:\n",
            "              precision    recall  f1-score   support\n",
            "\n",
            "           0       0.99      0.99      0.99      4696\n",
            "           1       0.99      0.99      0.99      4284\n",
            "\n",
            "    accuracy                           0.99      8980\n",
            "   macro avg       0.99      0.99      0.99      8980\n",
            "weighted avg       0.99      0.99      0.99      8980\n",
            "\n"
          ]
        }
      ],
      "source": [
        "from sklearn.ensemble import RandomForestClassifier\n",
        "from sklearn.metrics import classification_report\n",
        "\n",
        "# Assuming rf_model, X_train_vec, y_train, test_vec, y_test are defined as in your code\n",
        "rf_model = RandomForestClassifier()\n",
        "# Fit the Random Forest model\n",
        "rf_model.fit(X_train_vec, y_train)\n",
        "\n",
        "# Print accuracy scores\n",
        "print(\"Training Accuracy:\", rf_model.score(X_train_vec, y_train))\n",
        "print(\"Testing Accuracy:\", rf_model.score(test_vec, y_test))\n",
        "\n",
        "# Make predictions on the test set\n",
        "y_pred_rf = rf_model.predict(test_vec)\n",
        "\n",
        "# Print classification report\n",
        "print(\"Classification Report:\")\n",
        "print(classification_report(y_test, y_pred_rf))\n"
      ]
    },
    {
      "cell_type": "markdown",
      "metadata": {
        "id": "yNGXkbb2FAHU"
      },
      "source": [
        "# Decision Tree Classifier"
      ]
    },
    {
      "cell_type": "code",
      "execution_count": null,
      "metadata": {
        "colab": {
          "base_uri": "https://localhost:8080/"
        },
        "id": "wd-Knhx0EXSX",
        "outputId": "0ad4765e-968a-4e01-b595-be70a20a3c13"
      },
      "outputs": [
        {
          "name": "stdout",
          "output_type": "stream",
          "text": [
            "Training Accuracy: 0.9999721588061696\n",
            "Testing Accuracy: 0.9968819599109131\n",
            "Classification Report:\n",
            "              precision    recall  f1-score   support\n",
            "\n",
            "           0       1.00      1.00      1.00      4696\n",
            "           1       1.00      1.00      1.00      4284\n",
            "\n",
            "    accuracy                           1.00      8980\n",
            "   macro avg       1.00      1.00      1.00      8980\n",
            "weighted avg       1.00      1.00      1.00      8980\n",
            "\n"
          ]
        }
      ],
      "source": [
        "from sklearn.tree import DecisionTreeClassifier\n",
        "from sklearn.metrics import classification_report\n",
        "\n",
        "# Assuming dt_model, X_train_vec, y_train, test_vec, y_test are defined as in your code\n",
        "dt_model = DecisionTreeClassifier()\n",
        "# Fit the Decision Tree model\n",
        "dt_model.fit(X_train_vec, y_train)\n",
        "\n",
        "# Print accuracy scores\n",
        "print(\"Training Accuracy:\", dt_model.score(X_train_vec, y_train))\n",
        "print(\"Testing Accuracy:\", dt_model.score(test_vec, y_test))\n",
        "\n",
        "# Make predictions on the test set\n",
        "y_pred_dt = dt_model.predict(test_vec)\n",
        "\n",
        "# Print classification report\n",
        "print(\"Classification Report:\")\n",
        "print(classification_report(y_test, y_pred_dt))\n"
      ]
    },
    {
      "cell_type": "markdown",
      "metadata": {
        "id": "qyfkkyfAFD6l"
      },
      "source": [
        "# SVM classifier"
      ]
    },
    {
      "cell_type": "code",
      "execution_count": null,
      "metadata": {
        "colab": {
          "background_save": true
        },
        "id": "Cn5_r1idEmQ6",
        "outputId": "f1097364-e130-430b-ddaf-1447cd0b0c50"
      },
      "outputs": [
        {
          "name": "stdout",
          "output_type": "stream",
          "text": [
            "Training Accuracy: 0.996798262709505\n",
            "Testing Accuracy: 0.994097995545657\n",
            "Classification Report:\n",
            "              precision    recall  f1-score   support\n",
            "\n",
            "           0       0.99      0.99      0.99      4696\n",
            "           1       0.99      0.99      0.99      4284\n",
            "\n",
            "    accuracy                           0.99      8980\n",
            "   macro avg       0.99      0.99      0.99      8980\n",
            "weighted avg       0.99      0.99      0.99      8980\n",
            "\n"
          ]
        }
      ],
      "source": [
        "from sklearn.svm import SVC\n",
        "from sklearn.metrics import classification_report\n",
        "\n",
        "# Assuming svm_model, X_train_vec, y_train, test_vec, y_test are defined as in your code\n",
        "svm_model = SVC()\n",
        "# Fit the SVM model\n",
        "svm_model.fit(X_train_vec, y_train)\n",
        "\n",
        "# Print accuracy scores\n",
        "print(\"Training Accuracy:\", svm_model.score(X_train_vec, y_train))\n",
        "print(\"Testing Accuracy:\", svm_model.score(test_vec, y_test))\n",
        "\n",
        "# Make predictions on the test set\n",
        "y_pred_svm = svm_model.predict(test_vec)\n",
        "\n",
        "# Print classification report\n",
        "print(\"Classification Report:\")\n",
        "print(classification_report(y_test, y_pred_svm))\n"
      ]
    },
    {
      "cell_type": "markdown",
      "metadata": {
        "id": "eBieINIWFaSr"
      },
      "source": [
        "# Passive Aggressive Classifier"
      ]
    },
    {
      "cell_type": "code",
      "execution_count": null,
      "metadata": {
        "colab": {
          "background_save": true
        },
        "id": "NCRvtKbAFLx0",
        "outputId": "91398230-e928-42a8-e83b-8514d6408ebb"
      },
      "outputs": [
        {
          "name": "stdout",
          "output_type": "stream",
          "text": [
            "Training Accuracy: 0.9996102232863745\n",
            "Testing Accuracy: 0.9928730512249443\n",
            "Classification Report:\n",
            "              precision    recall  f1-score   support\n",
            "\n",
            "           0       0.99      0.99      0.99      4696\n",
            "           1       0.99      0.99      0.99      4284\n",
            "\n",
            "    accuracy                           0.99      8980\n",
            "   macro avg       0.99      0.99      0.99      8980\n",
            "weighted avg       0.99      0.99      0.99      8980\n",
            "\n"
          ]
        }
      ],
      "source": [
        "from sklearn.linear_model import PassiveAggressiveClassifier\n",
        "from sklearn.metrics import classification_report\n",
        "\n",
        "# Assuming pac_model, X_train_vec, y_train, test_vec, y_test are defined as in your code\n",
        "pac_model = PassiveAggressiveClassifier()\n",
        "# Fit the Passive-Aggressive classifier\n",
        "pac_model.fit(X_train_vec, y_train)\n",
        "\n",
        "# Print accuracy scores\n",
        "print(\"Training Accuracy:\", pac_model.score(X_train_vec, y_train))\n",
        "print(\"Testing Accuracy:\", pac_model.score(test_vec, y_test))\n",
        "\n",
        "# Make predictions on the test set\n",
        "y_pred_pac = pac_model.predict(test_vec)\n",
        "\n",
        "# Print classification report\n",
        "print(\"Classification Report:\")\n",
        "print(classification_report(y_test, y_pred_pac))\n"
      ]
    },
    {
      "cell_type": "markdown",
      "metadata": {
        "id": "UEGPZLXlGD2n"
      },
      "source": [
        "# KNN Model Implementation"
      ]
    },
    {
      "cell_type": "code",
      "execution_count": null,
      "metadata": {
        "colab": {
          "background_save": true
        },
        "id": "UMwshgx8GCwA",
        "outputId": "1762cd5a-cd88-4f8a-fc3d-bb217c557b49"
      },
      "outputs": [
        {
          "name": "stdout",
          "output_type": "stream",
          "text": [
            "Training Accuracy: 0.9280861963360989\n",
            "Testing Accuracy: 0.8947661469933185\n",
            "Classification Report:\n",
            "              precision    recall  f1-score   support\n",
            "\n",
            "           0       0.92      0.88      0.90      4696\n",
            "           1       0.87      0.92      0.89      4284\n",
            "\n",
            "    accuracy                           0.89      8980\n",
            "   macro avg       0.89      0.90      0.89      8980\n",
            "weighted avg       0.90      0.89      0.89      8980\n",
            "\n"
          ]
        }
      ],
      "source": [
        "from sklearn.neighbors import KNeighborsClassifier\n",
        "from sklearn.metrics import classification_report\n",
        "\n",
        "# Assuming knn_model, X_train_vec, y_train, test_vec, y_test are defined as in your code\n",
        "knn_model = KNeighborsClassifier()\n",
        "# Fit the KNN classifier\n",
        "knn_model.fit(X_train_vec, y_train)\n",
        "\n",
        "# Print accuracy scores\n",
        "print(\"Training Accuracy:\", knn_model.score(X_train_vec, y_train))\n",
        "print(\"Testing Accuracy:\", knn_model.score(test_vec, y_test))\n",
        "\n",
        "# Make predictions on the test set\n",
        "y_pred_knn = knn_model.predict(test_vec)\n",
        "\n",
        "# Print classification report\n",
        "print(\"Classification Report:\")\n",
        "print(classification_report(y_test, y_pred_knn))\n"
      ]
    },
    {
      "cell_type": "markdown",
      "metadata": {
        "id": "frN42Vt0GF3u"
      },
      "source": [
        "# XGBOOST Model Implementation"
      ]
    },
    {
      "cell_type": "code",
      "execution_count": null,
      "metadata": {
        "colab": {
          "background_save": true
        },
        "id": "_xcg0w-jGKBu",
        "outputId": "2b1f13b4-a493-42a2-ec12-eb71388ae65b"
      },
      "outputs": [
        {
          "name": "stdout",
          "output_type": "stream",
          "text": [
            "Training Accuracy: 0.9999721588061696\n",
            "Testing Accuracy: 0.9987750556792873\n",
            "Classification Report:\n",
            "              precision    recall  f1-score   support\n",
            "\n",
            "           0       1.00      1.00      1.00      4696\n",
            "           1       1.00      1.00      1.00      4284\n",
            "\n",
            "    accuracy                           1.00      8980\n",
            "   macro avg       1.00      1.00      1.00      8980\n",
            "weighted avg       1.00      1.00      1.00      8980\n",
            "\n"
          ]
        }
      ],
      "source": [
        "import xgboost as xgb\n",
        "from sklearn.metrics import classification_report\n",
        "\n",
        "# Assuming xgb_model, X_train_vec, y_train, test_vec, y_test are defined as in your code\n",
        "xgb_model = xgb.XGBClassifier()\n",
        "# Fit the XGBoost model\n",
        "xgb_model.fit(X_train_vec, y_train)\n",
        "\n",
        "# Print accuracy scores\n",
        "print(\"Training Accuracy:\", xgb_model.score(X_train_vec, y_train))\n",
        "print(\"Testing Accuracy:\", xgb_model.score(test_vec, y_test))\n",
        "\n",
        "# Make predictions on the test set\n",
        "y_pred_xgb = xgb_model.predict(test_vec)\n",
        "\n",
        "# Print classification report\n",
        "print(\"Classification Report:\")\n",
        "print(classification_report(y_test, y_pred_xgb))\n"
      ]
    },
    {
      "cell_type": "markdown",
      "metadata": {
        "id": "XO9CxDg6GUF3"
      },
      "source": [
        "# ADABOOST Model Implementation:"
      ]
    },
    {
      "cell_type": "code",
      "execution_count": null,
      "metadata": {
        "colab": {
          "background_save": true
        },
        "id": "SAPO0-q8GWII",
        "outputId": "8c804b27-9645-4d85-e435-8ca851924754"
      },
      "outputs": [
        {
          "name": "stdout",
          "output_type": "stream",
          "text": [
            "Training Accuracy: 0.9965198507712011\n",
            "Testing Accuracy: 0.9967706013363029\n",
            "Classification Report:\n",
            "              precision    recall  f1-score   support\n",
            "\n",
            "           0       1.00      1.00      1.00      4696\n",
            "           1       1.00      1.00      1.00      4284\n",
            "\n",
            "    accuracy                           1.00      8980\n",
            "   macro avg       1.00      1.00      1.00      8980\n",
            "weighted avg       1.00      1.00      1.00      8980\n",
            "\n"
          ]
        }
      ],
      "source": [
        "from sklearn.ensemble import AdaBoostClassifier\n",
        "from sklearn.metrics import classification_report\n",
        "\n",
        "# Assuming ada_model, X_train_vec, y_train, test_vec, y_test are defined as in your code\n",
        "ada_model = AdaBoostClassifier()\n",
        "# Fit the AdaBoost classifier\n",
        "ada_model.fit(X_train_vec, y_train)\n",
        "\n",
        "# Print accuracy scores\n",
        "print(\"Training Accuracy:\", ada_model.score(X_train_vec, y_train))\n",
        "print(\"Testing Accuracy:\", ada_model.score(test_vec, y_test))\n",
        "\n",
        "# Make predictions on the test set\n",
        "y_pred_ada = ada_model.predict(test_vec)\n",
        "\n",
        "# Print classification report\n",
        "print(\"Classification Report:\")\n",
        "print(classification_report(y_test, y_pred_ada))\n"
      ]
    },
    {
      "cell_type": "markdown",
      "metadata": {
        "id": "HTwtygPji8QR"
      },
      "source": [
        "# Accuracy analysis For different models"
      ]
    },
    {
      "cell_type": "code",
      "execution_count": null,
      "metadata": {
        "colab": {
          "base_uri": "https://localhost:8080/",
          "height": 434
        },
        "id": "7xmTdmtZHWzY",
        "outputId": "8b39466a-cfe1-46e2-8767-c7252478e7ed"
      },
      "outputs": [
        {
          "data": {
            "image/png": "[encoded data removed]",
            "text/plain": [
              "<Figure size 1000x600 with 1 Axes>"
            ]
          },
          "metadata": {},
          "output_type": "display_data"
        }
      ],
      "source": [
        "import matplotlib.pyplot as plt\n",
        "\n",
        "performance_metrics = {\n",
        "    'log_reg': 99.61,\n",
        "    'Naive_Bayes': 95.18,\n",
        "    'RandomForest': 98.84,\n",
        "    'DecisionTree': 99.68,\n",
        "    'SVM': 99.40,\n",
        "    'Pas_Aggre_Classifier': 99.28,\n",
        "    'KNN': 89.47,\n",
        "    'XGBOOST': 99.87,\n",
        "    'ADABOOST': 99.67\n",
        "}\n",
        "\n",
        "# Extract model names and their respective performance metrics\n",
        "models = list(performance_metrics.keys())\n",
        "scores = list(performance_metrics.values())\n",
        "\n",
        "# Create figure and axes\n",
        "plt.figure(figsize=(10, 6))\n",
        "\n",
        "# Plot scatter plot\n",
        "plt.scatter(models, scores, color='orange', label='Performance', s=100)\n",
        "\n",
        "# Connect points with lines\n",
        "for i in range(len(models) - 1):\n",
        "    plt.plot(models[i:i+2], scores[i:i+2], color='skyblue', linestyle='-', marker='o')\n",
        "\n",
        "plt.xlabel('Models')\n",
        "plt.ylabel('Accuracy (%)')\n",
        "plt.title('Accuracy of Different Models')\n",
        "plt.xticks(rotation=45, ha='right')  # Rotate x-axis labels for better readability\n",
        "plt.ylim(70, 100)  # Set y-axis limits\n",
        "plt.legend()\n",
        "plt.tight_layout()\n",
        "\n",
        "# Show plot\n",
        "plt.show()\n"
      ]
    },
    {
      "cell_type": "code",
      "execution_count": null,
      "metadata": {
        "id": "_L0KTceJIca3"
      },
      "outputs": [],
      "source": []
    }
  ],
  "metadata": {
    "accelerator": "TPU",
    "colab": {
      "provenance": [],
      "toc_visible": true
    },
    "gpuClass": "standard",
    "kernelspec": {
      "display_name": "Python 3",
      "name": "python3"
    },
    "language_info": {
      "name": "python"
    },
    "widgets": {
      "application/vnd.jupyter.widget-state+json": {
        "015d7387612544a89a2d0b54aadeb581": {
          "model_module": "@jupyter-widgets/controls",
          "model_module_version": "1.5.0",
          "model_name": "DescriptionStyleModel",
          "state": {
            "_model_module": "@jupyter-widgets/controls",
            "_model_module_version": "1.5.0",
            "_model_name": "DescriptionStyleModel",
            "_view_count": null,
            "_view_module": "@jupyter-widgets/base",
            "_view_module_version": "1.2.0",
            "_view_name": "StyleView",
            "description_width": ""
          }
        },
        "0475986efacd43fdaf6f9b1c17193a79": {
          "model_module": "@jupyter-widgets/controls",
          "model_module_version": "1.5.0",
          "model_name": "DescriptionStyleModel",
          "state": {
            "_model_module": "@jupyter-widgets/controls",
            "_model_module_version": "1.5.0",
            "_model_name": "DescriptionStyleModel",
            "_view_count": null,
            "_view_module": "@jupyter-widgets/base",
            "_view_module_version": "1.2.0",
            "_view_name": "StyleView",
            "description_width": ""
          }
        },
        "3a6f83f9858b467497f1677f6eec188b": {
          "model_module": "@jupyter-widgets/controls",
          "model_module_version": "1.5.0",
          "model_name": "FloatProgressModel",
          "state": {
            "_dom_classes": [],
            "_model_module": "@jupyter-widgets/controls",
            "_model_module_version": "1.5.0",
            "_model_name": "FloatProgressModel",
            "_view_count": null,
            "_view_module": "@jupyter-widgets/controls",
            "_view_module_version": "1.5.0",
            "_view_name": "ProgressView",
            "bar_style": "success",
            "description": "",
            "description_tooltip": null,
            "layout": "IPY_MODEL_58492c6ee17142f78aa77b9452439cf4",
            "max": 44898,
            "min": 0,
            "orientation": "horizontal",
            "style": "IPY_MODEL_c19dfae61e9c4c28a3058eb302e383a1",
            "value": 44898
          }
        },
        "42f1904f8bdb4785b44ff8c19b980463": {
          "model_module": "@jupyter-widgets/controls",
          "model_module_version": "1.5.0",
          "model_name": "HBoxModel",
          "state": {
            "_dom_classes": [],
            "_model_module": "@jupyter-widgets/controls",
            "_model_module_version": "1.5.0",
            "_model_name": "HBoxModel",
            "_view_count": null,
            "_view_module": "@jupyter-widgets/controls",
            "_view_module_version": "1.5.0",
            "_view_name": "HBoxView",
            "box_style": "",
            "children": [
              "IPY_MODEL_a5d04d0d9890460aa9b17807c8c6ca0c",
              "IPY_MODEL_3a6f83f9858b467497f1677f6eec188b",
              "IPY_MODEL_84399a54772d472dbc56216ed74eff30"
            ],
            "layout": "IPY_MODEL_83cb801e7cd04c179adf2c13a95ea6e8"
          }
        },
        "58492c6ee17142f78aa77b9452439cf4": {
          "model_module": "@jupyter-widgets/base",
          "model_module_version": "1.2.0",
          "model_name": "LayoutModel",
          "state": {
            "_model_module": "@jupyter-widgets/base",
            "_model_module_version": "1.2.0",
            "_model_name": "LayoutModel",
            "_view_count": null,
            "_view_module": "@jupyter-widgets/base",
            "_view_module_version": "1.2.0",
            "_view_name": "LayoutView",
            "align_content": null,
            "align_items": null,
            "align_self": null,
            "border": null,
            "bottom": null,
            "display": null,
            "flex": null,
            "flex_flow": null,
            "grid_area": null,
            "grid_auto_columns": null,
            "grid_auto_flow": null,
            "grid_auto_rows": null,
            "grid_column": null,
            "grid_gap": null,
            "grid_row": null,
            "grid_template_areas": null,
            "grid_template_columns": null,
            "grid_template_rows": null,
            "height": null,
            "justify_content": null,
            "justify_items": null,
            "left": null,
            "margin": null,
            "max_height": null,
            "max_width": null,
            "min_height": null,
            "min_width": null,
            "object_fit": null,
            "object_position": null,
            "order": null,
            "overflow": null,
            "overflow_x": null,
            "overflow_y": null,
            "padding": null,
            "right": null,
            "top": null,
            "visibility": null,
            "width": null
          }
        },
        "83cb801e7cd04c179adf2c13a95ea6e8": {
          "model_module": "@jupyter-widgets/base",
          "model_module_version": "1.2.0",
          "model_name": "LayoutModel",
          "state": {
            "_model_module": "@jupyter-widgets/base",
            "_model_module_version": "1.2.0",
            "_model_name": "LayoutModel",
            "_view_count": null,
            "_view_module": "@jupyter-widgets/base",
            "_view_module_version": "1.2.0",
            "_view_name": "LayoutView",
            "align_content": null,
            "align_items": null,
            "align_self": null,
            "border": null,
            "bottom": null,
            "display": null,
            "flex": null,
            "flex_flow": null,
            "grid_area": null,
            "grid_auto_columns": null,
            "grid_auto_flow": null,
            "grid_auto_rows": null,
            "grid_column": null,
            "grid_gap": null,
            "grid_row": null,
            "grid_template_areas": null,
            "grid_template_columns": null,
            "grid_template_rows": null,
            "height": null,
            "justify_content": null,
            "justify_items": null,
            "left": null,
            "margin": null,
            "max_height": null,
            "max_width": null,
            "min_height": null,
            "min_width": null,
            "object_fit": null,
            "object_position": null,
            "order": null,
            "overflow": null,
            "overflow_x": null,
            "overflow_y": null,
            "padding": null,
            "right": null,
            "top": null,
            "visibility": null,
            "width": null
          }
        },
        "84399a54772d472dbc56216ed74eff30": {
          "model_module": "@jupyter-widgets/controls",
          "model_module_version": "1.5.0",
          "model_name": "HTMLModel",
          "state": {
            "_dom_classes": [],
            "_model_module": "@jupyter-widgets/controls",
            "_model_module_version": "1.5.0",
            "_model_name": "HTMLModel",
            "_view_count": null,
            "_view_module": "@jupyter-widgets/controls",
            "_view_module_version": "1.5.0",
            "_view_name": "HTMLView",
            "description": "",
            "description_tooltip": null,
            "layout": "IPY_MODEL_96bfe2bf41204c3f9bdb73e2ac7c63b7",
            "placeholder": "​",
            "style": "IPY_MODEL_015d7387612544a89a2d0b54aadeb581",
            "value": " 44898/44898 [25:54&lt;00:00,  9.06it/s]"
          }
        },
        "96bfe2bf41204c3f9bdb73e2ac7c63b7": {
          "model_module": "@jupyter-widgets/base",
          "model_module_version": "1.2.0",
          "model_name": "LayoutModel",
          "state": {
            "_model_module": "@jupyter-widgets/base",
            "_model_module_version": "1.2.0",
            "_model_name": "LayoutModel",
            "_view_count": null,
            "_view_module": "@jupyter-widgets/base",
            "_view_module_version": "1.2.0",
            "_view_name": "LayoutView",
            "align_content": null,
            "align_items": null,
            "align_self": null,
            "border": null,
            "bottom": null,
            "display": null,
            "flex": null,
            "flex_flow": null,
            "grid_area": null,
            "grid_auto_columns": null,
            "grid_auto_flow": null,
            "grid_auto_rows": null,
            "grid_column": null,
            "grid_gap": null,
            "grid_row": null,
            "grid_template_areas": null,
            "grid_template_columns": null,
            "grid_template_rows": null,
            "height": null,
            "justify_content": null,
            "justify_items": null,
            "left": null,
            "margin": null,
            "max_height": null,
            "max_width": null,
            "min_height": null,
            "min_width": null,
            "object_fit": null,
            "object_position": null,
            "order": null,
            "overflow": null,
            "overflow_x": null,
            "overflow_y": null,
            "padding": null,
            "right": null,
            "top": null,
            "visibility": null,
            "width": null
          }
        },
        "a5d04d0d9890460aa9b17807c8c6ca0c": {
          "model_module": "@jupyter-widgets/controls",
          "model_module_version": "1.5.0",
          "model_name": "HTMLModel",
          "state": {
            "_dom_classes": [],
            "_model_module": "@jupyter-widgets/controls",
            "_model_module_version": "1.5.0",
            "_model_name": "HTMLModel",
            "_view_count": null,
            "_view_module": "@jupyter-widgets/controls",
            "_view_module_version": "1.5.0",
            "_view_name": "HTMLView",
            "description": "",
            "description_tooltip": null,
            "layout": "IPY_MODEL_b9721f4971ae4cf1837f285cf4582c0c",
            "placeholder": "​",
            "style": "IPY_MODEL_0475986efacd43fdaf6f9b1c17193a79",
            "value": "Pandas Apply: 100%"
          }
        },
        "b9721f4971ae4cf1837f285cf4582c0c": {
          "model_module": "@jupyter-widgets/base",
          "model_module_version": "1.2.0",
          "model_name": "LayoutModel",
          "state": {
            "_model_module": "@jupyter-widgets/base",
            "_model_module_version": "1.2.0",
            "_model_name": "LayoutModel",
            "_view_count": null,
            "_view_module": "@jupyter-widgets/base",
            "_view_module_version": "1.2.0",
            "_view_name": "LayoutView",
            "align_content": null,
            "align_items": null,
            "align_self": null,
            "border": null,
            "bottom": null,
            "display": null,
            "flex": null,
            "flex_flow": null,
            "grid_area": null,
            "grid_auto_columns": null,
            "grid_auto_flow": null,
            "grid_auto_rows": null,
            "grid_column": null,
            "grid_gap": null,
            "grid_row": null,
            "grid_template_areas": null,
            "grid_template_columns": null,
            "grid_template_rows": null,
            "height": null,
            "justify_content": null,
            "justify_items": null,
            "left": null,
            "margin": null,
            "max_height": null,
            "max_width": null,
            "min_height": null,
            "min_width": null,
            "object_fit": null,
            "object_position": null,
            "order": null,
            "overflow": null,
            "overflow_x": null,
            "overflow_y": null,
            "padding": null,
            "right": null,
            "top": null,
            "visibility": null,
            "width": null
          }
        },
        "c19dfae61e9c4c28a3058eb302e383a1": {
          "model_module": "@jupyter-widgets/controls",
          "model_module_version": "1.5.0",
          "model_name": "ProgressStyleModel",
          "state": {
            "_model_module": "@jupyter-widgets/controls",
            "_model_module_version": "1.5.0",
            "_model_name": "ProgressStyleModel",
            "_view_count": null,
            "_view_module": "@jupyter-widgets/base",
            "_view_module_version": "1.2.0",
            "_view_name": "StyleView",
            "bar_color": null,
            "description_width": ""
          }
        }
      }
    }
  },
  "nbformat": 4,
  "nbformat_minor": 0
}